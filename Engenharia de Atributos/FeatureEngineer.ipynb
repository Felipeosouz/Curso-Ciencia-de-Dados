{
 "cells": [
  {
   "cell_type": "code",
   "execution_count": 3,
   "id": "d4373cc6",
   "metadata": {},
   "outputs": [
    {
     "data": {
      "text/html": [
       "<div>\n",
       "<style scoped>\n",
       "    .dataframe tbody tr th:only-of-type {\n",
       "        vertical-align: middle;\n",
       "    }\n",
       "\n",
       "    .dataframe tbody tr th {\n",
       "        vertical-align: top;\n",
       "    }\n",
       "\n",
       "    .dataframe thead th {\n",
       "        text-align: right;\n",
       "    }\n",
       "</style>\n",
       "<table border=\"1\" class=\"dataframe\">\n",
       "  <thead>\n",
       "    <tr style=\"text-align: right;\">\n",
       "      <th></th>\n",
       "      <th>SALDO_ATUAL</th>\n",
       "      <th>RESIDENCIADESDE</th>\n",
       "      <th>IDADE</th>\n",
       "      <th>OUTROSPLANOSPGTO</th>\n",
       "      <th>DATA</th>\n",
       "      <th>ESTADOCIVIL</th>\n",
       "      <th>PROPOSITO</th>\n",
       "      <th>CLASSE</th>\n",
       "    </tr>\n",
       "  </thead>\n",
       "  <tbody>\n",
       "    <tr>\n",
       "      <th>0</th>\n",
       "      <td>1169.0</td>\n",
       "      <td>4</td>\n",
       "      <td>67</td>\n",
       "      <td>nenhum</td>\n",
       "      <td>01/01/2019</td>\n",
       "      <td>masculino solteiro</td>\n",
       "      <td>radio/tv</td>\n",
       "      <td>bom</td>\n",
       "    </tr>\n",
       "    <tr>\n",
       "      <th>1</th>\n",
       "      <td>5951.0</td>\n",
       "      <td>2</td>\n",
       "      <td>22</td>\n",
       "      <td>nenhum</td>\n",
       "      <td>01/01/2020</td>\n",
       "      <td>fem div/cas</td>\n",
       "      <td>radio/tv</td>\n",
       "      <td>ruim</td>\n",
       "    </tr>\n",
       "    <tr>\n",
       "      <th>2</th>\n",
       "      <td>2096.0</td>\n",
       "      <td>3</td>\n",
       "      <td>49</td>\n",
       "      <td>nenhum</td>\n",
       "      <td>02/01/2020</td>\n",
       "      <td>masculino solteiro</td>\n",
       "      <td>educação</td>\n",
       "      <td>bom</td>\n",
       "    </tr>\n",
       "    <tr>\n",
       "      <th>3</th>\n",
       "      <td>7882.0</td>\n",
       "      <td>4</td>\n",
       "      <td>45</td>\n",
       "      <td>nenhum</td>\n",
       "      <td>02/01/2019</td>\n",
       "      <td>masculino solteiro</td>\n",
       "      <td>mobilia/equipamento</td>\n",
       "      <td>bom</td>\n",
       "    </tr>\n",
       "    <tr>\n",
       "      <th>4</th>\n",
       "      <td>4870.0</td>\n",
       "      <td>4</td>\n",
       "      <td>53</td>\n",
       "      <td>nenhum</td>\n",
       "      <td>03/01/2018</td>\n",
       "      <td>masculino solteiro</td>\n",
       "      <td>carro novo</td>\n",
       "      <td>ruim</td>\n",
       "    </tr>\n",
       "  </tbody>\n",
       "</table>\n",
       "</div>"
      ],
      "text/plain": [
       "   SALDO_ATUAL  RESIDENCIADESDE  IDADE OUTROSPLANOSPGTO        DATA  \\\n",
       "0       1169.0                4     67           nenhum  01/01/2019   \n",
       "1       5951.0                2     22           nenhum  01/01/2020   \n",
       "2       2096.0                3     49           nenhum  02/01/2020   \n",
       "3       7882.0                4     45           nenhum  02/01/2019   \n",
       "4       4870.0                4     53           nenhum  03/01/2018   \n",
       "\n",
       "          ESTADOCIVIL            PROPOSITO CLASSE  \n",
       "0  masculino solteiro             radio/tv    bom  \n",
       "1         fem div/cas             radio/tv   ruim  \n",
       "2  masculino solteiro             educação    bom  \n",
       "3  masculino solteiro  mobilia/equipamento    bom  \n",
       "4  masculino solteiro           carro novo   ruim  "
      ]
     },
     "execution_count": 3,
     "metadata": {},
     "output_type": "execute_result"
    }
   ],
   "source": [
    "import pandas as pd\n",
    "from sklearn.preprocessing import LabelEncoder, StandardScaler\n",
    "from sklearn.model_selection import train_test_split\n",
    "from sklearn.ensemble import RandomForestClassifier\n",
    "from sklearn.metrics import confusion_matrix, accuracy_score\n",
    "\n",
    "dataset = pd.read_csv(\"credito4.csv\", sep = \";\")\n",
    "dataset.head()"
   ]
  },
  {
   "cell_type": "code",
   "execution_count": 13,
   "id": "02e20e48",
   "metadata": {},
   "outputs": [],
   "source": [
    "X = dataset.iloc[:, 0:7]\n",
    "y = dataset[\"CLASSE\"]"
   ]
  },
  {
   "cell_type": "code",
   "execution_count": 12,
   "id": "32281049",
   "metadata": {},
   "outputs": [
    {
     "data": {
      "text/plain": [
       "SALDO_ATUAL         7\n",
       "RESIDENCIADESDE     0\n",
       "IDADE               0\n",
       "OUTROSPLANOSPGTO    0\n",
       "DATA                0\n",
       "ESTADOCIVIL         8\n",
       "PROPOSITO           0\n",
       "dtype: int64"
      ]
     },
     "execution_count": 12,
     "metadata": {},
     "output_type": "execute_result"
    }
   ],
   "source": [
    "# Tratamento de valores faltantes\n",
    "X.isnull().sum()"
   ]
  },
  {
   "cell_type": "code",
   "execution_count": 15,
   "id": "304dd9d4",
   "metadata": {},
   "outputs": [
    {
     "data": {
      "text/plain": [
       "2323.0"
      ]
     },
     "execution_count": 15,
     "metadata": {},
     "output_type": "execute_result"
    }
   ],
   "source": [
    "# O saldo será preenchido pela mediana\n",
    "mediana = X[\"SALDO_ATUAL\"].median()\n",
    "mediana"
   ]
  },
  {
   "cell_type": "code",
   "execution_count": 16,
   "id": "78d7c046",
   "metadata": {},
   "outputs": [
    {
     "data": {
      "text/plain": [
       "SALDO_ATUAL         0\n",
       "RESIDENCIADESDE     0\n",
       "IDADE               0\n",
       "OUTROSPLANOSPGTO    0\n",
       "DATA                0\n",
       "ESTADOCIVIL         8\n",
       "PROPOSITO           0\n",
       "dtype: int64"
      ]
     },
     "execution_count": 16,
     "metadata": {},
     "output_type": "execute_result"
    }
   ],
   "source": [
    "X[\"SALDO_ATUAL\"].fillna(mediana, inplace = True)\n",
    "X.isnull().sum()"
   ]
  },
  {
   "cell_type": "code",
   "execution_count": 17,
   "id": "fadaccad",
   "metadata": {},
   "outputs": [
    {
     "data": {
      "text/plain": [
       "ESTADOCIVIL\n",
       "fem div/cas               308\n",
       "masculino casado/viuvo     92\n",
       "masculino div/sep          50\n",
       "masculino solteiro        542\n",
       "dtype: int64"
      ]
     },
     "execution_count": 17,
     "metadata": {},
     "output_type": "execute_result"
    }
   ],
   "source": [
    "# Verifica qual a moda do estado civil\n",
    "agrupado = X.groupby([\"ESTADOCIVIL\"]).size()\n",
    "agrupado"
   ]
  },
  {
   "cell_type": "code",
   "execution_count": 18,
   "id": "b78260f7",
   "metadata": {},
   "outputs": [
    {
     "data": {
      "text/plain": [
       "SALDO_ATUAL         0\n",
       "RESIDENCIADESDE     0\n",
       "IDADE               0\n",
       "OUTROSPLANOSPGTO    0\n",
       "DATA                0\n",
       "ESTADOCIVIL         0\n",
       "PROPOSITO           0\n",
       "dtype: int64"
      ]
     },
     "execution_count": 18,
     "metadata": {},
     "output_type": "execute_result"
    }
   ],
   "source": [
    "# Substitui o estado civil pela moda\n",
    "X[\"ESTADOCIVIL\"].fillna(\"masculino solteiro\", inplace = True)\n",
    "X.isnull().sum()"
   ]
  },
  {
   "cell_type": "code",
   "execution_count": 19,
   "id": "59f0472f",
   "metadata": {},
   "outputs": [
    {
     "data": {
      "text/plain": [
       "685936688.9820064"
      ]
     },
     "execution_count": 19,
     "metadata": {},
     "output_type": "execute_result"
    }
   ],
   "source": [
    "# Outliers, definimos como acima de 2 std\n",
    "desv = X[\"SALDO_ATUAL\"].std()\n",
    "desv"
   ]
  },
  {
   "cell_type": "code",
   "execution_count": 20,
   "id": "27464d71",
   "metadata": {},
   "outputs": [
    {
     "data": {
      "text/plain": [
       "127    2.541111e+09\n",
       "160    2.154441e+10\n",
       "Name: SALDO_ATUAL, dtype: float64"
      ]
     },
     "execution_count": 20,
     "metadata": {},
     "output_type": "execute_result"
    }
   ],
   "source": [
    "# Checamos se algum SALDO_ATUAL atende ao critério\n",
    "X.loc[X[\"SALDO_ATUAL\"] >= 2 * desv, \"SALDO_ATUAL\"]"
   ]
  },
  {
   "cell_type": "code",
   "execution_count": 22,
   "id": "8b1471ed",
   "metadata": {},
   "outputs": [
    {
     "data": {
      "text/plain": [
       "2323.0"
      ]
     },
     "execution_count": 22,
     "metadata": {},
     "output_type": "execute_result"
    }
   ],
   "source": [
    "# Vamos atualizar o saldo para a mediana\n",
    "mediana = X[\"SALDO_ATUAL\"].median()\n",
    "mediana"
   ]
  },
  {
   "cell_type": "code",
   "execution_count": 23,
   "id": "52e67a1b",
   "metadata": {
    "scrolled": true
   },
   "outputs": [
    {
     "data": {
      "text/html": [
       "<div>\n",
       "<style scoped>\n",
       "    .dataframe tbody tr th:only-of-type {\n",
       "        vertical-align: middle;\n",
       "    }\n",
       "\n",
       "    .dataframe tbody tr th {\n",
       "        vertical-align: top;\n",
       "    }\n",
       "\n",
       "    .dataframe thead th {\n",
       "        text-align: right;\n",
       "    }\n",
       "</style>\n",
       "<table border=\"1\" class=\"dataframe\">\n",
       "  <thead>\n",
       "    <tr style=\"text-align: right;\">\n",
       "      <th></th>\n",
       "      <th>SALDO_ATUAL</th>\n",
       "      <th>RESIDENCIADESDE</th>\n",
       "      <th>IDADE</th>\n",
       "      <th>OUTROSPLANOSPGTO</th>\n",
       "      <th>DATA</th>\n",
       "      <th>ESTADOCIVIL</th>\n",
       "      <th>PROPOSITO</th>\n",
       "    </tr>\n",
       "  </thead>\n",
       "  <tbody>\n",
       "  </tbody>\n",
       "</table>\n",
       "</div>"
      ],
      "text/plain": [
       "Empty DataFrame\n",
       "Columns: [SALDO_ATUAL, RESIDENCIADESDE, IDADE, OUTROSPLANOSPGTO, DATA, ESTADOCIVIL, PROPOSITO]\n",
       "Index: []"
      ]
     },
     "execution_count": 23,
     "metadata": {},
     "output_type": "execute_result"
    }
   ],
   "source": [
    "# Atribuimos\n",
    "X.loc[X[\"SALDO_ATUAL\"] >= 2 * desv, \"SALDO_ATUAL\"] = mediana\n",
    "X.loc[X[\"SALDO_ATUAL\"] >= 2 * desv]"
   ]
  },
  {
   "cell_type": "code",
   "execution_count": 27,
   "id": "dc667089",
   "metadata": {},
   "outputs": [
    {
     "data": {
      "text/plain": [
       "PROPOSITO\n",
       "Eletrodomésticos        12\n",
       "carro novo             234\n",
       "carro usado            103\n",
       "educação                50\n",
       "mobilia/equipamento    181\n",
       "negócios                97\n",
       "obras                   22\n",
       "outros                  12\n",
       "qualificação             9\n",
       "radio/tv               280\n",
       "dtype: int64"
      ]
     },
     "execution_count": 27,
     "metadata": {},
     "output_type": "execute_result"
    }
   ],
   "source": [
    "# Binning\n",
    "agrupado = X.groupby([\"PROPOSITO\"]).size()\n",
    "agrupado"
   ]
  },
  {
   "cell_type": "code",
   "execution_count": 28,
   "id": "16c3ab1f",
   "metadata": {},
   "outputs": [
    {
     "data": {
      "text/plain": [
       "PROPOSITO\n",
       "carro novo      234\n",
       "carro usado     103\n",
       "negócios         97\n",
       "obras            22\n",
       "outros          255\n",
       "qualificação      9\n",
       "radio/tv        280\n",
       "dtype: int64"
      ]
     },
     "execution_count": 28,
     "metadata": {},
     "output_type": "execute_result"
    }
   ],
   "source": [
    "X.loc[X[\"PROPOSITO\"] == \"Eletrodomésticos\", \"PROPOSITO\"] = \"outros\"\n",
    "X.loc[X[\"PROPOSITO\"] == \"mobilia/equipamento\", \"PROPOSITO\"] = \"outros\"\n",
    "X.loc[X[\"PROPOSITO\"] == \"educação\", \"PROPOSITO\"] = \"outros\"\n",
    "agrupado = X.groupby([\"PROPOSITO\"]).size()\n",
    "agrupado"
   ]
  },
  {
   "cell_type": "code",
   "execution_count": 29,
   "id": "8cf6ad00",
   "metadata": {},
   "outputs": [
    {
     "data": {
      "text/plain": [
       "0     2019-01-01\n",
       "1     2020-01-01\n",
       "2     2020-01-02\n",
       "3     2019-01-02\n",
       "4     2018-01-03\n",
       "         ...    \n",
       "995   2018-06-29\n",
       "996   2018-06-30\n",
       "997   2018-07-03\n",
       "998   2019-07-04\n",
       "999   2018-07-05\n",
       "Name: DATA, Length: 1000, dtype: datetime64[ns]"
      ]
     },
     "execution_count": 29,
     "metadata": {},
     "output_type": "execute_result"
    }
   ],
   "source": [
    "# Extração de característica da data\n",
    "X[\"DATA\"] = pd.to_datetime(X[\"DATA\"], format = \"%d/%m/%Y\")\n",
    "X[\"DATA\"]"
   ]
  },
  {
   "cell_type": "code",
   "execution_count": 30,
   "id": "f071a6df",
   "metadata": {},
   "outputs": [
    {
     "data": {
      "text/plain": [
       "0        Tuesday\n",
       "1      Wednesday\n",
       "2       Thursday\n",
       "3      Wednesday\n",
       "4      Wednesday\n",
       "         ...    \n",
       "995       Friday\n",
       "996     Saturday\n",
       "997      Tuesday\n",
       "998     Thursday\n",
       "999     Thursday\n",
       "Name: DIASEMANA, Length: 1000, dtype: object"
      ]
     },
     "execution_count": 30,
     "metadata": {},
     "output_type": "execute_result"
    }
   ],
   "source": [
    "# 3 Novos atributos\n",
    "X[\"ANO\"] = X[\"DATA\"].dt.year\n",
    "X[\"MES\"] = X[\"DATA\"].dt.month\n",
    "X[\"DIASEMANA\"] = X[\"DATA\"].dt.day_name()\n",
    "\n",
    "X[\"DIASEMANA\"]"
   ]
  },
  {
   "cell_type": "code",
   "execution_count": 31,
   "id": "31fd5c2f",
   "metadata": {},
   "outputs": [
    {
     "data": {
      "text/plain": [
       "array(['masculino solteiro', 'fem div/cas', 'masculino div/sep',\n",
       "       'masculino casado/viuvo'], dtype=object)"
      ]
     },
     "execution_count": 31,
     "metadata": {},
     "output_type": "execute_result"
    }
   ],
   "source": [
    "# Label encoder em estado civil, proposito e dia da semana\n",
    "X[\"ESTADOCIVIL\"].unique()"
   ]
  },
  {
   "cell_type": "code",
   "execution_count": 32,
   "id": "d104ed14",
   "metadata": {},
   "outputs": [
    {
     "data": {
      "text/plain": [
       "array(['Tuesday', 'Wednesday', 'Thursday', 'Saturday', 'Sunday', 'Monday',\n",
       "       'Friday'], dtype=object)"
      ]
     },
     "execution_count": 32,
     "metadata": {},
     "output_type": "execute_result"
    }
   ],
   "source": [
    "X[\"DIASEMANA\"].unique()"
   ]
  },
  {
   "cell_type": "code",
   "execution_count": 33,
   "id": "9f0b3091",
   "metadata": {},
   "outputs": [
    {
     "data": {
      "text/plain": [
       "array(['radio/tv', 'outros', 'carro novo', 'carro usado', 'negócios',\n",
       "       'obras', 'qualificação'], dtype=object)"
      ]
     },
     "execution_count": 33,
     "metadata": {},
     "output_type": "execute_result"
    }
   ],
   "source": [
    "X[\"PROPOSITO\"].unique()"
   ]
  },
  {
   "cell_type": "code",
   "execution_count": 35,
   "id": "66fb5ea4",
   "metadata": {
    "scrolled": true
   },
   "outputs": [
    {
     "data": {
      "text/html": [
       "<div>\n",
       "<style scoped>\n",
       "    .dataframe tbody tr th:only-of-type {\n",
       "        vertical-align: middle;\n",
       "    }\n",
       "\n",
       "    .dataframe tbody tr th {\n",
       "        vertical-align: top;\n",
       "    }\n",
       "\n",
       "    .dataframe thead th {\n",
       "        text-align: right;\n",
       "    }\n",
       "</style>\n",
       "<table border=\"1\" class=\"dataframe\">\n",
       "  <thead>\n",
       "    <tr style=\"text-align: right;\">\n",
       "      <th></th>\n",
       "      <th>SALDO_ATUAL</th>\n",
       "      <th>RESIDENCIADESDE</th>\n",
       "      <th>IDADE</th>\n",
       "      <th>OUTROSPLANOSPGTO</th>\n",
       "      <th>DATA</th>\n",
       "      <th>ESTADOCIVIL</th>\n",
       "      <th>PROPOSITO</th>\n",
       "      <th>ANO</th>\n",
       "      <th>MES</th>\n",
       "      <th>DIASEMANA</th>\n",
       "    </tr>\n",
       "  </thead>\n",
       "  <tbody>\n",
       "    <tr>\n",
       "      <th>0</th>\n",
       "      <td>1169.0</td>\n",
       "      <td>4</td>\n",
       "      <td>67</td>\n",
       "      <td>nenhum</td>\n",
       "      <td>2019-01-01</td>\n",
       "      <td>3</td>\n",
       "      <td>6</td>\n",
       "      <td>2019</td>\n",
       "      <td>1</td>\n",
       "      <td>5</td>\n",
       "    </tr>\n",
       "    <tr>\n",
       "      <th>1</th>\n",
       "      <td>5951.0</td>\n",
       "      <td>2</td>\n",
       "      <td>22</td>\n",
       "      <td>nenhum</td>\n",
       "      <td>2020-01-01</td>\n",
       "      <td>0</td>\n",
       "      <td>6</td>\n",
       "      <td>2020</td>\n",
       "      <td>1</td>\n",
       "      <td>6</td>\n",
       "    </tr>\n",
       "    <tr>\n",
       "      <th>2</th>\n",
       "      <td>2096.0</td>\n",
       "      <td>3</td>\n",
       "      <td>49</td>\n",
       "      <td>nenhum</td>\n",
       "      <td>2020-01-02</td>\n",
       "      <td>3</td>\n",
       "      <td>4</td>\n",
       "      <td>2020</td>\n",
       "      <td>1</td>\n",
       "      <td>4</td>\n",
       "    </tr>\n",
       "    <tr>\n",
       "      <th>3</th>\n",
       "      <td>7882.0</td>\n",
       "      <td>4</td>\n",
       "      <td>45</td>\n",
       "      <td>nenhum</td>\n",
       "      <td>2019-01-02</td>\n",
       "      <td>3</td>\n",
       "      <td>4</td>\n",
       "      <td>2019</td>\n",
       "      <td>1</td>\n",
       "      <td>6</td>\n",
       "    </tr>\n",
       "    <tr>\n",
       "      <th>4</th>\n",
       "      <td>4870.0</td>\n",
       "      <td>4</td>\n",
       "      <td>53</td>\n",
       "      <td>nenhum</td>\n",
       "      <td>2018-01-03</td>\n",
       "      <td>3</td>\n",
       "      <td>0</td>\n",
       "      <td>2018</td>\n",
       "      <td>1</td>\n",
       "      <td>6</td>\n",
       "    </tr>\n",
       "  </tbody>\n",
       "</table>\n",
       "</div>"
      ],
      "text/plain": [
       "   SALDO_ATUAL  RESIDENCIADESDE  IDADE OUTROSPLANOSPGTO       DATA  \\\n",
       "0       1169.0                4     67           nenhum 2019-01-01   \n",
       "1       5951.0                2     22           nenhum 2020-01-01   \n",
       "2       2096.0                3     49           nenhum 2020-01-02   \n",
       "3       7882.0                4     45           nenhum 2019-01-02   \n",
       "4       4870.0                4     53           nenhum 2018-01-03   \n",
       "\n",
       "   ESTADOCIVIL  PROPOSITO   ANO  MES  DIASEMANA  \n",
       "0            3          6  2019    1          5  \n",
       "1            0          6  2020    1          6  \n",
       "2            3          4  2020    1          4  \n",
       "3            3          4  2019    1          6  \n",
       "4            3          0  2018    1          6  "
      ]
     },
     "execution_count": 35,
     "metadata": {},
     "output_type": "execute_result"
    }
   ],
   "source": [
    "labelencoder = LabelEncoder()\n",
    "X[\"ESTADOCIVIL\"] = labelencoder.fit_transform(X[\"ESTADOCIVIL\"])\n",
    "X[\"DIASEMANA\"] = labelencoder.fit_transform(X[\"DIASEMANA\"])\n",
    "X[\"PROPOSITO\"] = labelencoder.fit_transform(X[\"PROPOSITO\"])\n",
    "\n",
    "X.head()"
   ]
  },
  {
   "cell_type": "code",
   "execution_count": 37,
   "id": "c998e33a",
   "metadata": {},
   "outputs": [
    {
     "data": {
      "text/plain": [
       "array(['nenhum', 'banco', 'stores'], dtype=object)"
      ]
     },
     "execution_count": 37,
     "metadata": {},
     "output_type": "execute_result"
    }
   ],
   "source": [
    "# One hot encoding em Outros planos de pagamento\n",
    "outros = X[\"OUTROSPLANOSPGTO\"].unique()\n",
    "outros"
   ]
  },
  {
   "cell_type": "code",
   "execution_count": 39,
   "id": "913295e9",
   "metadata": {},
   "outputs": [
    {
     "data": {
      "text/html": [
       "<div>\n",
       "<style scoped>\n",
       "    .dataframe tbody tr th:only-of-type {\n",
       "        vertical-align: middle;\n",
       "    }\n",
       "\n",
       "    .dataframe tbody tr th {\n",
       "        vertical-align: top;\n",
       "    }\n",
       "\n",
       "    .dataframe thead th {\n",
       "        text-align: right;\n",
       "    }\n",
       "</style>\n",
       "<table border=\"1\" class=\"dataframe\">\n",
       "  <thead>\n",
       "    <tr style=\"text-align: right;\">\n",
       "      <th></th>\n",
       "      <th>OUTROS_banco</th>\n",
       "      <th>OUTROS_nenhum</th>\n",
       "      <th>OUTROS_stores</th>\n",
       "    </tr>\n",
       "  </thead>\n",
       "  <tbody>\n",
       "    <tr>\n",
       "      <th>0</th>\n",
       "      <td>0</td>\n",
       "      <td>1</td>\n",
       "      <td>0</td>\n",
       "    </tr>\n",
       "    <tr>\n",
       "      <th>1</th>\n",
       "      <td>0</td>\n",
       "      <td>1</td>\n",
       "      <td>0</td>\n",
       "    </tr>\n",
       "    <tr>\n",
       "      <th>2</th>\n",
       "      <td>0</td>\n",
       "      <td>1</td>\n",
       "      <td>0</td>\n",
       "    </tr>\n",
       "    <tr>\n",
       "      <th>3</th>\n",
       "      <td>0</td>\n",
       "      <td>1</td>\n",
       "      <td>0</td>\n",
       "    </tr>\n",
       "    <tr>\n",
       "      <th>4</th>\n",
       "      <td>0</td>\n",
       "      <td>1</td>\n",
       "      <td>0</td>\n",
       "    </tr>\n",
       "    <tr>\n",
       "      <th>...</th>\n",
       "      <td>...</td>\n",
       "      <td>...</td>\n",
       "      <td>...</td>\n",
       "    </tr>\n",
       "    <tr>\n",
       "      <th>995</th>\n",
       "      <td>0</td>\n",
       "      <td>1</td>\n",
       "      <td>0</td>\n",
       "    </tr>\n",
       "    <tr>\n",
       "      <th>996</th>\n",
       "      <td>0</td>\n",
       "      <td>1</td>\n",
       "      <td>0</td>\n",
       "    </tr>\n",
       "    <tr>\n",
       "      <th>997</th>\n",
       "      <td>0</td>\n",
       "      <td>1</td>\n",
       "      <td>0</td>\n",
       "    </tr>\n",
       "    <tr>\n",
       "      <th>998</th>\n",
       "      <td>0</td>\n",
       "      <td>1</td>\n",
       "      <td>0</td>\n",
       "    </tr>\n",
       "    <tr>\n",
       "      <th>999</th>\n",
       "      <td>0</td>\n",
       "      <td>1</td>\n",
       "      <td>0</td>\n",
       "    </tr>\n",
       "  </tbody>\n",
       "</table>\n",
       "<p>1000 rows × 3 columns</p>\n",
       "</div>"
      ],
      "text/plain": [
       "     OUTROS_banco  OUTROS_nenhum  OUTROS_stores\n",
       "0               0              1              0\n",
       "1               0              1              0\n",
       "2               0              1              0\n",
       "3               0              1              0\n",
       "4               0              1              0\n",
       "..            ...            ...            ...\n",
       "995             0              1              0\n",
       "996             0              1              0\n",
       "997             0              1              0\n",
       "998             0              1              0\n",
       "999             0              1              0\n",
       "\n",
       "[1000 rows x 3 columns]"
      ]
     },
     "execution_count": 39,
     "metadata": {},
     "output_type": "execute_result"
    }
   ],
   "source": [
    "z = pd.get_dummies(X[\"OUTROSPLANOSPGTO\"], prefix = \"OUTROS\")\n",
    "z"
   ]
  },
  {
   "cell_type": "code",
   "execution_count": 40,
   "id": "0bff7671",
   "metadata": {},
   "outputs": [
    {
     "data": {
      "text/plain": [
       "array([[-0.74551643,  1.04698668,  1.6392759 ],\n",
       "       [ 0.95774038, -0.76597727, -0.74024139],\n",
       "       [-0.41533679,  0.14050471,  0.68746898],\n",
       "       ...,\n",
       "       [-0.87552244,  1.04698668,  0.1058092 ],\n",
       "       [-0.50473818,  1.04698668, -0.68736323],\n",
       "       [ 0.46799171,  1.04698668, -0.47585058]])"
      ]
     },
     "execution_count": 40,
     "metadata": {},
     "output_type": "execute_result"
    }
   ],
   "source": [
    "# Padronização Z-score\n",
    "sc = StandardScaler()\n",
    "m = sc.fit_transform(X.iloc[:, 0:3])\n",
    "\n",
    "m"
   ]
  },
  {
   "cell_type": "code",
   "execution_count": 41,
   "id": "928651c3",
   "metadata": {},
   "outputs": [
    {
     "data": {
      "text/html": [
       "<div>\n",
       "<style scoped>\n",
       "    .dataframe tbody tr th:only-of-type {\n",
       "        vertical-align: middle;\n",
       "    }\n",
       "\n",
       "    .dataframe tbody tr th {\n",
       "        vertical-align: top;\n",
       "    }\n",
       "\n",
       "    .dataframe thead th {\n",
       "        text-align: right;\n",
       "    }\n",
       "</style>\n",
       "<table border=\"1\" class=\"dataframe\">\n",
       "  <thead>\n",
       "    <tr style=\"text-align: right;\">\n",
       "      <th></th>\n",
       "      <th>SALDO_ATUAL</th>\n",
       "      <th>RESIDENCIADESDE</th>\n",
       "      <th>IDADE</th>\n",
       "      <th>OUTROSPLANOSPGTO</th>\n",
       "      <th>DATA</th>\n",
       "      <th>ESTADOCIVIL</th>\n",
       "      <th>PROPOSITO</th>\n",
       "      <th>ANO</th>\n",
       "      <th>MES</th>\n",
       "      <th>DIASEMANA</th>\n",
       "      <th>OUTROS_banco</th>\n",
       "      <th>OUTROS_nenhum</th>\n",
       "      <th>OUTROS_stores</th>\n",
       "      <th>SALDO_ATUAL_N</th>\n",
       "      <th>RESIDENCIADESDE_N</th>\n",
       "      <th>IDADE_N</th>\n",
       "    </tr>\n",
       "  </thead>\n",
       "  <tbody>\n",
       "    <tr>\n",
       "      <th>0</th>\n",
       "      <td>1169.0</td>\n",
       "      <td>4</td>\n",
       "      <td>67</td>\n",
       "      <td>nenhum</td>\n",
       "      <td>2019-01-01</td>\n",
       "      <td>3</td>\n",
       "      <td>6</td>\n",
       "      <td>2019</td>\n",
       "      <td>1</td>\n",
       "      <td>5</td>\n",
       "      <td>0</td>\n",
       "      <td>1</td>\n",
       "      <td>0</td>\n",
       "      <td>-0.745516</td>\n",
       "      <td>1.046987</td>\n",
       "      <td>1.639276</td>\n",
       "    </tr>\n",
       "    <tr>\n",
       "      <th>1</th>\n",
       "      <td>5951.0</td>\n",
       "      <td>2</td>\n",
       "      <td>22</td>\n",
       "      <td>nenhum</td>\n",
       "      <td>2020-01-01</td>\n",
       "      <td>0</td>\n",
       "      <td>6</td>\n",
       "      <td>2020</td>\n",
       "      <td>1</td>\n",
       "      <td>6</td>\n",
       "      <td>0</td>\n",
       "      <td>1</td>\n",
       "      <td>0</td>\n",
       "      <td>0.957740</td>\n",
       "      <td>-0.765977</td>\n",
       "      <td>-0.740241</td>\n",
       "    </tr>\n",
       "    <tr>\n",
       "      <th>2</th>\n",
       "      <td>2096.0</td>\n",
       "      <td>3</td>\n",
       "      <td>49</td>\n",
       "      <td>nenhum</td>\n",
       "      <td>2020-01-02</td>\n",
       "      <td>3</td>\n",
       "      <td>4</td>\n",
       "      <td>2020</td>\n",
       "      <td>1</td>\n",
       "      <td>4</td>\n",
       "      <td>0</td>\n",
       "      <td>1</td>\n",
       "      <td>0</td>\n",
       "      <td>-0.415337</td>\n",
       "      <td>0.140505</td>\n",
       "      <td>0.687469</td>\n",
       "    </tr>\n",
       "    <tr>\n",
       "      <th>3</th>\n",
       "      <td>7882.0</td>\n",
       "      <td>4</td>\n",
       "      <td>45</td>\n",
       "      <td>nenhum</td>\n",
       "      <td>2019-01-02</td>\n",
       "      <td>3</td>\n",
       "      <td>4</td>\n",
       "      <td>2019</td>\n",
       "      <td>1</td>\n",
       "      <td>6</td>\n",
       "      <td>0</td>\n",
       "      <td>1</td>\n",
       "      <td>0</td>\n",
       "      <td>1.645526</td>\n",
       "      <td>1.046987</td>\n",
       "      <td>0.475956</td>\n",
       "    </tr>\n",
       "    <tr>\n",
       "      <th>4</th>\n",
       "      <td>4870.0</td>\n",
       "      <td>4</td>\n",
       "      <td>53</td>\n",
       "      <td>nenhum</td>\n",
       "      <td>2018-01-03</td>\n",
       "      <td>3</td>\n",
       "      <td>0</td>\n",
       "      <td>2018</td>\n",
       "      <td>1</td>\n",
       "      <td>6</td>\n",
       "      <td>0</td>\n",
       "      <td>1</td>\n",
       "      <td>0</td>\n",
       "      <td>0.572709</td>\n",
       "      <td>1.046987</td>\n",
       "      <td>0.898982</td>\n",
       "    </tr>\n",
       "    <tr>\n",
       "      <th>...</th>\n",
       "      <td>...</td>\n",
       "      <td>...</td>\n",
       "      <td>...</td>\n",
       "      <td>...</td>\n",
       "      <td>...</td>\n",
       "      <td>...</td>\n",
       "      <td>...</td>\n",
       "      <td>...</td>\n",
       "      <td>...</td>\n",
       "      <td>...</td>\n",
       "      <td>...</td>\n",
       "      <td>...</td>\n",
       "      <td>...</td>\n",
       "      <td>...</td>\n",
       "      <td>...</td>\n",
       "      <td>...</td>\n",
       "    </tr>\n",
       "    <tr>\n",
       "      <th>995</th>\n",
       "      <td>1736.0</td>\n",
       "      <td>4</td>\n",
       "      <td>31</td>\n",
       "      <td>nenhum</td>\n",
       "      <td>2018-06-29</td>\n",
       "      <td>0</td>\n",
       "      <td>4</td>\n",
       "      <td>2018</td>\n",
       "      <td>6</td>\n",
       "      <td>0</td>\n",
       "      <td>0</td>\n",
       "      <td>1</td>\n",
       "      <td>0</td>\n",
       "      <td>-0.543562</td>\n",
       "      <td>1.046987</td>\n",
       "      <td>-0.264338</td>\n",
       "    </tr>\n",
       "    <tr>\n",
       "      <th>996</th>\n",
       "      <td>3857.0</td>\n",
       "      <td>4</td>\n",
       "      <td>40</td>\n",
       "      <td>nenhum</td>\n",
       "      <td>2018-06-30</td>\n",
       "      <td>2</td>\n",
       "      <td>1</td>\n",
       "      <td>2018</td>\n",
       "      <td>6</td>\n",
       "      <td>2</td>\n",
       "      <td>0</td>\n",
       "      <td>1</td>\n",
       "      <td>0</td>\n",
       "      <td>0.211898</td>\n",
       "      <td>1.046987</td>\n",
       "      <td>0.211566</td>\n",
       "    </tr>\n",
       "    <tr>\n",
       "      <th>997</th>\n",
       "      <td>804.0</td>\n",
       "      <td>4</td>\n",
       "      <td>38</td>\n",
       "      <td>nenhum</td>\n",
       "      <td>2018-07-03</td>\n",
       "      <td>3</td>\n",
       "      <td>6</td>\n",
       "      <td>2018</td>\n",
       "      <td>7</td>\n",
       "      <td>5</td>\n",
       "      <td>0</td>\n",
       "      <td>1</td>\n",
       "      <td>0</td>\n",
       "      <td>-0.875522</td>\n",
       "      <td>1.046987</td>\n",
       "      <td>0.105809</td>\n",
       "    </tr>\n",
       "    <tr>\n",
       "      <th>998</th>\n",
       "      <td>1845.0</td>\n",
       "      <td>4</td>\n",
       "      <td>23</td>\n",
       "      <td>nenhum</td>\n",
       "      <td>2019-07-04</td>\n",
       "      <td>3</td>\n",
       "      <td>6</td>\n",
       "      <td>2019</td>\n",
       "      <td>7</td>\n",
       "      <td>4</td>\n",
       "      <td>0</td>\n",
       "      <td>1</td>\n",
       "      <td>0</td>\n",
       "      <td>-0.504738</td>\n",
       "      <td>1.046987</td>\n",
       "      <td>-0.687363</td>\n",
       "    </tr>\n",
       "    <tr>\n",
       "      <th>999</th>\n",
       "      <td>4576.0</td>\n",
       "      <td>4</td>\n",
       "      <td>27</td>\n",
       "      <td>nenhum</td>\n",
       "      <td>2018-07-05</td>\n",
       "      <td>3</td>\n",
       "      <td>1</td>\n",
       "      <td>2018</td>\n",
       "      <td>7</td>\n",
       "      <td>4</td>\n",
       "      <td>0</td>\n",
       "      <td>1</td>\n",
       "      <td>0</td>\n",
       "      <td>0.467992</td>\n",
       "      <td>1.046987</td>\n",
       "      <td>-0.475851</td>\n",
       "    </tr>\n",
       "  </tbody>\n",
       "</table>\n",
       "<p>1000 rows × 16 columns</p>\n",
       "</div>"
      ],
      "text/plain": [
       "     SALDO_ATUAL  RESIDENCIADESDE  IDADE OUTROSPLANOSPGTO       DATA  \\\n",
       "0         1169.0                4     67           nenhum 2019-01-01   \n",
       "1         5951.0                2     22           nenhum 2020-01-01   \n",
       "2         2096.0                3     49           nenhum 2020-01-02   \n",
       "3         7882.0                4     45           nenhum 2019-01-02   \n",
       "4         4870.0                4     53           nenhum 2018-01-03   \n",
       "..           ...              ...    ...              ...        ...   \n",
       "995       1736.0                4     31           nenhum 2018-06-29   \n",
       "996       3857.0                4     40           nenhum 2018-06-30   \n",
       "997        804.0                4     38           nenhum 2018-07-03   \n",
       "998       1845.0                4     23           nenhum 2019-07-04   \n",
       "999       4576.0                4     27           nenhum 2018-07-05   \n",
       "\n",
       "     ESTADOCIVIL  PROPOSITO   ANO  MES  DIASEMANA  OUTROS_banco  \\\n",
       "0              3          6  2019    1          5             0   \n",
       "1              0          6  2020    1          6             0   \n",
       "2              3          4  2020    1          4             0   \n",
       "3              3          4  2019    1          6             0   \n",
       "4              3          0  2018    1          6             0   \n",
       "..           ...        ...   ...  ...        ...           ...   \n",
       "995            0          4  2018    6          0             0   \n",
       "996            2          1  2018    6          2             0   \n",
       "997            3          6  2018    7          5             0   \n",
       "998            3          6  2019    7          4             0   \n",
       "999            3          1  2018    7          4             0   \n",
       "\n",
       "     OUTROS_nenhum  OUTROS_stores  SALDO_ATUAL_N  RESIDENCIADESDE_N   IDADE_N  \n",
       "0                1              0      -0.745516           1.046987  1.639276  \n",
       "1                1              0       0.957740          -0.765977 -0.740241  \n",
       "2                1              0      -0.415337           0.140505  0.687469  \n",
       "3                1              0       1.645526           1.046987  0.475956  \n",
       "4                1              0       0.572709           1.046987  0.898982  \n",
       "..             ...            ...            ...                ...       ...  \n",
       "995              1              0      -0.543562           1.046987 -0.264338  \n",
       "996              1              0       0.211898           1.046987  0.211566  \n",
       "997              1              0      -0.875522           1.046987  0.105809  \n",
       "998              1              0      -0.504738           1.046987 -0.687363  \n",
       "999              1              0       0.467992           1.046987 -0.475851  \n",
       "\n",
       "[1000 rows x 16 columns]"
      ]
     },
     "execution_count": 41,
     "metadata": {},
     "output_type": "execute_result"
    }
   ],
   "source": [
    "# Concatenação dos dados\n",
    "X = pd.concat([X, z, pd.DataFrame(m, columns = [\"SALDO_ATUAL_N\", \"RESIDENCIADESDE_N\", \"IDADE_N\"])], axis = 1)\n",
    "\n",
    "X"
   ]
  },
  {
   "cell_type": "code",
   "execution_count": 42,
   "id": "3be862c0",
   "metadata": {},
   "outputs": [
    {
     "data": {
      "text/html": [
       "<div>\n",
       "<style scoped>\n",
       "    .dataframe tbody tr th:only-of-type {\n",
       "        vertical-align: middle;\n",
       "    }\n",
       "\n",
       "    .dataframe tbody tr th {\n",
       "        vertical-align: top;\n",
       "    }\n",
       "\n",
       "    .dataframe thead th {\n",
       "        text-align: right;\n",
       "    }\n",
       "</style>\n",
       "<table border=\"1\" class=\"dataframe\">\n",
       "  <thead>\n",
       "    <tr style=\"text-align: right;\">\n",
       "      <th></th>\n",
       "      <th>ESTADOCIVIL</th>\n",
       "      <th>PROPOSITO</th>\n",
       "      <th>ANO</th>\n",
       "      <th>MES</th>\n",
       "      <th>DIASEMANA</th>\n",
       "      <th>OUTROS_nenhum</th>\n",
       "      <th>OUTROS_stores</th>\n",
       "      <th>SALDO_ATUAL_N</th>\n",
       "      <th>RESIDENCIADESDE_N</th>\n",
       "      <th>IDADE_N</th>\n",
       "    </tr>\n",
       "  </thead>\n",
       "  <tbody>\n",
       "    <tr>\n",
       "      <th>0</th>\n",
       "      <td>3</td>\n",
       "      <td>6</td>\n",
       "      <td>2019</td>\n",
       "      <td>1</td>\n",
       "      <td>5</td>\n",
       "      <td>1</td>\n",
       "      <td>0</td>\n",
       "      <td>-0.745516</td>\n",
       "      <td>1.046987</td>\n",
       "      <td>1.639276</td>\n",
       "    </tr>\n",
       "    <tr>\n",
       "      <th>1</th>\n",
       "      <td>0</td>\n",
       "      <td>6</td>\n",
       "      <td>2020</td>\n",
       "      <td>1</td>\n",
       "      <td>6</td>\n",
       "      <td>1</td>\n",
       "      <td>0</td>\n",
       "      <td>0.957740</td>\n",
       "      <td>-0.765977</td>\n",
       "      <td>-0.740241</td>\n",
       "    </tr>\n",
       "    <tr>\n",
       "      <th>2</th>\n",
       "      <td>3</td>\n",
       "      <td>4</td>\n",
       "      <td>2020</td>\n",
       "      <td>1</td>\n",
       "      <td>4</td>\n",
       "      <td>1</td>\n",
       "      <td>0</td>\n",
       "      <td>-0.415337</td>\n",
       "      <td>0.140505</td>\n",
       "      <td>0.687469</td>\n",
       "    </tr>\n",
       "    <tr>\n",
       "      <th>3</th>\n",
       "      <td>3</td>\n",
       "      <td>4</td>\n",
       "      <td>2019</td>\n",
       "      <td>1</td>\n",
       "      <td>6</td>\n",
       "      <td>1</td>\n",
       "      <td>0</td>\n",
       "      <td>1.645526</td>\n",
       "      <td>1.046987</td>\n",
       "      <td>0.475956</td>\n",
       "    </tr>\n",
       "    <tr>\n",
       "      <th>4</th>\n",
       "      <td>3</td>\n",
       "      <td>0</td>\n",
       "      <td>2018</td>\n",
       "      <td>1</td>\n",
       "      <td>6</td>\n",
       "      <td>1</td>\n",
       "      <td>0</td>\n",
       "      <td>0.572709</td>\n",
       "      <td>1.046987</td>\n",
       "      <td>0.898982</td>\n",
       "    </tr>\n",
       "    <tr>\n",
       "      <th>...</th>\n",
       "      <td>...</td>\n",
       "      <td>...</td>\n",
       "      <td>...</td>\n",
       "      <td>...</td>\n",
       "      <td>...</td>\n",
       "      <td>...</td>\n",
       "      <td>...</td>\n",
       "      <td>...</td>\n",
       "      <td>...</td>\n",
       "      <td>...</td>\n",
       "    </tr>\n",
       "    <tr>\n",
       "      <th>995</th>\n",
       "      <td>0</td>\n",
       "      <td>4</td>\n",
       "      <td>2018</td>\n",
       "      <td>6</td>\n",
       "      <td>0</td>\n",
       "      <td>1</td>\n",
       "      <td>0</td>\n",
       "      <td>-0.543562</td>\n",
       "      <td>1.046987</td>\n",
       "      <td>-0.264338</td>\n",
       "    </tr>\n",
       "    <tr>\n",
       "      <th>996</th>\n",
       "      <td>2</td>\n",
       "      <td>1</td>\n",
       "      <td>2018</td>\n",
       "      <td>6</td>\n",
       "      <td>2</td>\n",
       "      <td>1</td>\n",
       "      <td>0</td>\n",
       "      <td>0.211898</td>\n",
       "      <td>1.046987</td>\n",
       "      <td>0.211566</td>\n",
       "    </tr>\n",
       "    <tr>\n",
       "      <th>997</th>\n",
       "      <td>3</td>\n",
       "      <td>6</td>\n",
       "      <td>2018</td>\n",
       "      <td>7</td>\n",
       "      <td>5</td>\n",
       "      <td>1</td>\n",
       "      <td>0</td>\n",
       "      <td>-0.875522</td>\n",
       "      <td>1.046987</td>\n",
       "      <td>0.105809</td>\n",
       "    </tr>\n",
       "    <tr>\n",
       "      <th>998</th>\n",
       "      <td>3</td>\n",
       "      <td>6</td>\n",
       "      <td>2019</td>\n",
       "      <td>7</td>\n",
       "      <td>4</td>\n",
       "      <td>1</td>\n",
       "      <td>0</td>\n",
       "      <td>-0.504738</td>\n",
       "      <td>1.046987</td>\n",
       "      <td>-0.687363</td>\n",
       "    </tr>\n",
       "    <tr>\n",
       "      <th>999</th>\n",
       "      <td>3</td>\n",
       "      <td>1</td>\n",
       "      <td>2018</td>\n",
       "      <td>7</td>\n",
       "      <td>4</td>\n",
       "      <td>1</td>\n",
       "      <td>0</td>\n",
       "      <td>0.467992</td>\n",
       "      <td>1.046987</td>\n",
       "      <td>-0.475851</td>\n",
       "    </tr>\n",
       "  </tbody>\n",
       "</table>\n",
       "<p>1000 rows × 10 columns</p>\n",
       "</div>"
      ],
      "text/plain": [
       "     ESTADOCIVIL  PROPOSITO   ANO  MES  DIASEMANA  OUTROS_nenhum  \\\n",
       "0              3          6  2019    1          5              1   \n",
       "1              0          6  2020    1          6              1   \n",
       "2              3          4  2020    1          4              1   \n",
       "3              3          4  2019    1          6              1   \n",
       "4              3          0  2018    1          6              1   \n",
       "..           ...        ...   ...  ...        ...            ...   \n",
       "995            0          4  2018    6          0              1   \n",
       "996            2          1  2018    6          2              1   \n",
       "997            3          6  2018    7          5              1   \n",
       "998            3          6  2019    7          4              1   \n",
       "999            3          1  2018    7          4              1   \n",
       "\n",
       "     OUTROS_stores  SALDO_ATUAL_N  RESIDENCIADESDE_N   IDADE_N  \n",
       "0                0      -0.745516           1.046987  1.639276  \n",
       "1                0       0.957740          -0.765977 -0.740241  \n",
       "2                0      -0.415337           0.140505  0.687469  \n",
       "3                0       1.645526           1.046987  0.475956  \n",
       "4                0       0.572709           1.046987  0.898982  \n",
       "..             ...            ...                ...       ...  \n",
       "995              0      -0.543562           1.046987 -0.264338  \n",
       "996              0       0.211898           1.046987  0.211566  \n",
       "997              0      -0.875522           1.046987  0.105809  \n",
       "998              0      -0.504738           1.046987 -0.687363  \n",
       "999              0       0.467992           1.046987 -0.475851  \n",
       "\n",
       "[1000 rows x 10 columns]"
      ]
     },
     "execution_count": 42,
     "metadata": {},
     "output_type": "execute_result"
    }
   ],
   "source": [
    "# Remoção de algumas colunas\n",
    "X.drop(columns = [\"SALDO_ATUAL\", \"RESIDENCIADESDE\", \"IDADE\", \"OUTROSPLANOSPGTO\", \"DATA\", \"OUTROS_banco\"], inplace = True)\n",
    "\n",
    "X"
   ]
  },
  {
   "cell_type": "code",
   "execution_count": 43,
   "id": "6d44f330",
   "metadata": {},
   "outputs": [
    {
     "data": {
      "text/plain": [
       "array([[189,  25],\n",
       "       [ 63,  23]], dtype=int64)"
      ]
     },
     "execution_count": 43,
     "metadata": {},
     "output_type": "execute_result"
    }
   ],
   "source": [
    "X_treino, X_teste, y_treino, y_teste = train_test_split(X, y, test_size = 0.3, random_state = 0)\n",
    "floresta = RandomForestClassifier(n_estimators = 100)\n",
    "floresta.fit(X_treino, y_treino)\n",
    "previsoes = floresta.predict(X_teste)\n",
    "confusao = confusion_matrix(y_teste, previsoes)\n",
    "taxa_acerto = accuracy_score(y_teste, previsoes)\n",
    "\n",
    "confusao"
   ]
  },
  {
   "cell_type": "code",
   "execution_count": 44,
   "id": "d74b0f84",
   "metadata": {},
   "outputs": [
    {
     "data": {
      "text/plain": [
       "0.7066666666666667"
      ]
     },
     "execution_count": 44,
     "metadata": {},
     "output_type": "execute_result"
    }
   ],
   "source": [
    "taxa_acerto"
   ]
  }
 ],
 "metadata": {
  "kernelspec": {
   "display_name": "Python 3 (ipykernel)",
   "language": "python",
   "name": "python3"
  },
  "language_info": {
   "codemirror_mode": {
    "name": "ipython",
    "version": 3
   },
   "file_extension": ".py",
   "mimetype": "text/x-python",
   "name": "python",
   "nbconvert_exporter": "python",
   "pygments_lexer": "ipython3",
   "version": "3.9.13"
  }
 },
 "nbformat": 4,
 "nbformat_minor": 5
}
