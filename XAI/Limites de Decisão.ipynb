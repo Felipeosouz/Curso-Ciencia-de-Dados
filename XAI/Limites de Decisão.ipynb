{
 "cells": [
  {
   "cell_type": "code",
   "execution_count": 35,
   "id": "f791c475",
   "metadata": {},
   "outputs": [
    {
     "data": {
      "text/html": [
       "<div>\n",
       "<style scoped>\n",
       "    .dataframe tbody tr th:only-of-type {\n",
       "        vertical-align: middle;\n",
       "    }\n",
       "\n",
       "    .dataframe tbody tr th {\n",
       "        vertical-align: top;\n",
       "    }\n",
       "\n",
       "    .dataframe thead th {\n",
       "        text-align: right;\n",
       "    }\n",
       "</style>\n",
       "<table border=\"1\" class=\"dataframe\">\n",
       "  <thead>\n",
       "    <tr style=\"text-align: right;\">\n",
       "      <th></th>\n",
       "      <th>Consumo</th>\n",
       "      <th>Cilindros</th>\n",
       "      <th>Cilindradas</th>\n",
       "      <th>RelEixoTraseiro</th>\n",
       "      <th>Peso</th>\n",
       "      <th>Tempo</th>\n",
       "      <th>TipoMotor</th>\n",
       "      <th>Transmissao</th>\n",
       "      <th>Marchas</th>\n",
       "      <th>Carburadors</th>\n",
       "      <th>HP</th>\n",
       "    </tr>\n",
       "  </thead>\n",
       "  <tbody>\n",
       "    <tr>\n",
       "      <th>0</th>\n",
       "      <td>21</td>\n",
       "      <td>6</td>\n",
       "      <td>160</td>\n",
       "      <td>39</td>\n",
       "      <td>262</td>\n",
       "      <td>1646</td>\n",
       "      <td>0</td>\n",
       "      <td>1</td>\n",
       "      <td>4</td>\n",
       "      <td>4</td>\n",
       "      <td>110</td>\n",
       "    </tr>\n",
       "    <tr>\n",
       "      <th>1</th>\n",
       "      <td>21</td>\n",
       "      <td>6</td>\n",
       "      <td>160</td>\n",
       "      <td>39</td>\n",
       "      <td>2875</td>\n",
       "      <td>1702</td>\n",
       "      <td>0</td>\n",
       "      <td>1</td>\n",
       "      <td>4</td>\n",
       "      <td>4</td>\n",
       "      <td>110</td>\n",
       "    </tr>\n",
       "    <tr>\n",
       "      <th>2</th>\n",
       "      <td>228</td>\n",
       "      <td>4</td>\n",
       "      <td>108</td>\n",
       "      <td>385</td>\n",
       "      <td>232</td>\n",
       "      <td>1861</td>\n",
       "      <td>1</td>\n",
       "      <td>1</td>\n",
       "      <td>4</td>\n",
       "      <td>1</td>\n",
       "      <td>93</td>\n",
       "    </tr>\n",
       "    <tr>\n",
       "      <th>3</th>\n",
       "      <td>214</td>\n",
       "      <td>6</td>\n",
       "      <td>258</td>\n",
       "      <td>308</td>\n",
       "      <td>3215</td>\n",
       "      <td>1944</td>\n",
       "      <td>1</td>\n",
       "      <td>0</td>\n",
       "      <td>3</td>\n",
       "      <td>1</td>\n",
       "      <td>110</td>\n",
       "    </tr>\n",
       "    <tr>\n",
       "      <th>4</th>\n",
       "      <td>187</td>\n",
       "      <td>8</td>\n",
       "      <td>360</td>\n",
       "      <td>315</td>\n",
       "      <td>344</td>\n",
       "      <td>1702</td>\n",
       "      <td>0</td>\n",
       "      <td>0</td>\n",
       "      <td>3</td>\n",
       "      <td>2</td>\n",
       "      <td>175</td>\n",
       "    </tr>\n",
       "  </tbody>\n",
       "</table>\n",
       "</div>"
      ],
      "text/plain": [
       "   Consumo  Cilindros  Cilindradas  RelEixoTraseiro  Peso  Tempo  TipoMotor  \\\n",
       "0       21          6          160               39   262   1646          0   \n",
       "1       21          6          160               39  2875   1702          0   \n",
       "2      228          4          108              385   232   1861          1   \n",
       "3      214          6          258              308  3215   1944          1   \n",
       "4      187          8          360              315   344   1702          0   \n",
       "\n",
       "   Transmissao  Marchas  Carburadors   HP  \n",
       "0            1        4            4  110  \n",
       "1            1        4            4  110  \n",
       "2            1        4            1   93  \n",
       "3            0        3            1  110  \n",
       "4            0        3            2  175  "
      ]
     },
     "execution_count": 35,
     "metadata": {},
     "output_type": "execute_result"
    }
   ],
   "source": [
    "import numpy as np\n",
    "import matplotlib.pyplot as plt\n",
    "from sklearn import linear_model\n",
    "from mlxtend.plotting import plot_decision_regions\n",
    "import pandas as pd\n",
    "\n",
    "modelo = linear_model.LinearRegression()\n",
    "carros = pd.read_csv(\"carros.csv\", sep = \";\")\n",
    "carros.head()"
   ]
  },
  {
   "cell_type": "code",
   "execution_count": 36,
   "id": "1e83749f",
   "metadata": {},
   "outputs": [],
   "source": [
    "carros = carros.to_numpy()"
   ]
  },
  {
   "cell_type": "code",
   "execution_count": 40,
   "id": "2eb49760",
   "metadata": {},
   "outputs": [
    {
     "data": {
      "text/plain": [
       "LinearRegression()"
      ]
     },
     "execution_count": 40,
     "metadata": {},
     "output_type": "execute_result"
    }
   ],
   "source": [
    "y = carros[:, 9]\n",
    "X = carros[:, 0:2]\n",
    "\n",
    "modelo.fit(X, y)"
   ]
  },
  {
   "cell_type": "code",
   "execution_count": 42,
   "id": "99e20fc0",
   "metadata": {},
   "outputs": [
    {
     "data": {
      "text/plain": [
       "array([4, 4, 1, 1, 2, 1, 4, 2, 2, 4, 4, 3, 3, 3, 4, 4, 4, 1, 2, 1, 1, 2,\n",
       "       2, 4, 2, 1, 2, 2, 4, 6, 8, 2], dtype=int64)"
      ]
     },
     "execution_count": 42,
     "metadata": {},
     "output_type": "execute_result"
    }
   ],
   "source": [
    "y"
   ]
  },
  {
   "cell_type": "code",
   "execution_count": 41,
   "id": "c6d067d6",
   "metadata": {},
   "outputs": [
    {
     "name": "stderr",
     "output_type": "stream",
     "text": [
      "C:\\Users\\Felipinho\\anaconda3\\lib\\site-packages\\mlxtend\\plotting\\decision_regions.py:300: UserWarning: You passed a edgecolor/edgecolors ('black') for an unfilled marker ('x').  Matplotlib is ignoring the edgecolor in favor of the facecolor.  This behavior may change in the future.\n",
      "  ax.scatter(\n"
     ]
    },
    {
     "data": {
      "image/png": "[encoded data removed]",
      "text/plain": [
       "<Figure size 640x480 with 1 Axes>"
      ]
     },
     "metadata": {},
     "output_type": "display_data"
    }
   ],
   "source": [
    "# Gráfico gerado\n",
    "fig = plot_decision_regions(X = X, y = y, clf = modelo)\n",
    "plt.legend(bbox_to_anchor = (1.04,1), loc = \"upper left\", ncol = 2)\n",
    "plt.title(\"Limites de Decisão\")\n",
    "plt.xlabel(\"Consumo\")\n",
    "plt.ylabel(\"Cilidros\")\n",
    "plt.show()"
   ]
  }
 ],
 "metadata": {
  "kernelspec": {
   "display_name": "Python 3 (ipykernel)",
   "language": "python",
   "name": "python3"
  },
  "language_info": {
   "codemirror_mode": {
    "name": "ipython",
    "version": 3
   },
   "file_extension": ".py",
   "mimetype": "text/x-python",
   "name": "python",
   "nbconvert_exporter": "python",
   "pygments_lexer": "ipython3",
   "version": "3.9.13"
  }
 },
 "nbformat": 4,
 "nbformat_minor": 5
}
