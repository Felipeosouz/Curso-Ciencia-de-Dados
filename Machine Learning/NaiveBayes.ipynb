{
  "nbformat": 4,
  "nbformat_minor": 0,
  "metadata": {
    "colab": {
      "provenance": [],
      "authorship_tag": "ABX9TyP5YKpHrMk/g1yq49/jXQQ3",
      "include_colab_link": true
    },
    "kernelspec": {
      "name": "python3",
      "display_name": "Python 3"
    },
    "language_info": {
      "name": "python"
    }
  },
  "cells": [
    {
      "cell_type": "markdown",
      "metadata": {
        "id": "view-in-github",
        "colab_type": "text"
      },
      "source": [
        "<a href=\"https://colab.research.google.com/github/Felipeosouz/Formacao-Cientista-de-Dados/blob/main/Machine%20Learning/NaiveBayes.ipynb\" target=\"_parent\"><img src=\"https://colab.research.google.com/assets/colab-badge.svg\" alt=\"Open In Colab\"/></a>"
      ]
    },
    {
      "cell_type": "code",
      "execution_count": 50,
      "metadata": {
        "colab": {
          "base_uri": "https://localhost:8080/"
        },
        "id": "ZjQ0Ged3gLBJ",
        "outputId": "f9318d81-ea2b-42c2-db18-d1488195bc71"
      },
      "outputs": [
        {
          "output_type": "execute_result",
          "data": {
            "text/plain": [
              "(1000, 21)"
            ]
          },
          "metadata": {},
          "execution_count": 50
        }
      ],
      "source": [
        "import pandas as pd\n",
        "from sklearn.model_selection import train_test_split\n",
        "from sklearn.naive_bayes import GaussianNB\n",
        "from sklearn.preprocessing import LabelEncoder\n",
        "from sklearn.metrics import confusion_matrix, accuracy_score\n",
        "from yellowbrick.classifier import ConfusionMatrix\n",
        "\n",
        "credito = pd.read_csv(\"Credit.csv\")\n",
        "credito.shape"
      ]
    },
    {
      "cell_type": "code",
      "source": [
        "credito.head()"
      ],
      "metadata": {
        "colab": {
          "base_uri": "https://localhost:8080/",
          "height": 369
        },
        "id": "8k24UN9MuaZT",
        "outputId": "8e4ea255-32f7-4e86-ea7c-f15a87eee768"
      },
      "execution_count": 51,
      "outputs": [
        {
          "output_type": "execute_result",
          "data": {
            "text/plain": [
              "  checking_status  duration                    credit_history  \\\n",
              "0              <0         6  'critical/other existing credit'   \n",
              "1        0<=X<200        48                   'existing paid'   \n",
              "2   'no checking'        12  'critical/other existing credit'   \n",
              "3              <0        42                   'existing paid'   \n",
              "4              <0        24              'delayed previously'   \n",
              "\n",
              "               purpose  credit_amount      savings_status employment  \\\n",
              "0             radio/tv           1169  'no known savings'        >=7   \n",
              "1             radio/tv           5951                <100     1<=X<4   \n",
              "2            education           2096                <100     4<=X<7   \n",
              "3  furniture/equipment           7882                <100     4<=X<7   \n",
              "4            'new car'           4870                <100     1<=X<4   \n",
              "\n",
              "   installment_commitment       personal_status other_parties  ...  \\\n",
              "0                       4         'male single'          none  ...   \n",
              "1                       2  'female div/dep/mar'          none  ...   \n",
              "2                       2         'male single'          none  ...   \n",
              "3                       2         'male single'     guarantor  ...   \n",
              "4                       3         'male single'          none  ...   \n",
              "\n",
              "    property_magnitude age  other_payment_plans     housing existing_credits  \\\n",
              "0        'real estate'  67                 none         own                2   \n",
              "1        'real estate'  22                 none         own                1   \n",
              "2        'real estate'  49                 none         own                1   \n",
              "3     'life insurance'  45                 none  'for free'                1   \n",
              "4  'no known property'  53                 none  'for free'                2   \n",
              "\n",
              "                    job num_dependents  own_telephone foreign_worker class  \n",
              "0               skilled              1            yes            yes  good  \n",
              "1               skilled              1           none            yes   bad  \n",
              "2  'unskilled resident'              2           none            yes  good  \n",
              "3               skilled              2           none            yes  good  \n",
              "4               skilled              2           none            yes   bad  \n",
              "\n",
              "[5 rows x 21 columns]"
            ],
            "text/html": [
              "\n",
              "  <div id=\"df-56feb47b-ea18-461d-9036-a3ab23e20035\">\n",
              "    <div class=\"colab-df-container\">\n",
              "      <div>\n",
              "<style scoped>\n",
              "    .dataframe tbody tr th:only-of-type {\n",
              "        vertical-align: middle;\n",
              "    }\n",
              "\n",
              "    .dataframe tbody tr th {\n",
              "        vertical-align: top;\n",
              "    }\n",
              "\n",
              "    .dataframe thead th {\n",
              "        text-align: right;\n",
              "    }\n",
              "</style>\n",
              "<table border=\"1\" class=\"dataframe\">\n",
              "  <thead>\n",
              "    <tr style=\"text-align: right;\">\n",
              "      <th></th>\n",
              "      <th>checking_status</th>\n",
              "      <th>duration</th>\n",
              "      <th>credit_history</th>\n",
              "      <th>purpose</th>\n",
              "      <th>credit_amount</th>\n",
              "      <th>savings_status</th>\n",
              "      <th>employment</th>\n",
              "      <th>installment_commitment</th>\n",
              "      <th>personal_status</th>\n",
              "      <th>other_parties</th>\n",
              "      <th>...</th>\n",
              "      <th>property_magnitude</th>\n",
              "      <th>age</th>\n",
              "      <th>other_payment_plans</th>\n",
              "      <th>housing</th>\n",
              "      <th>existing_credits</th>\n",
              "      <th>job</th>\n",
              "      <th>num_dependents</th>\n",
              "      <th>own_telephone</th>\n",
              "      <th>foreign_worker</th>\n",
              "      <th>class</th>\n",
              "    </tr>\n",
              "  </thead>\n",
              "  <tbody>\n",
              "    <tr>\n",
              "      <th>0</th>\n",
              "      <td>&lt;0</td>\n",
              "      <td>6</td>\n",
              "      <td>'critical/other existing credit'</td>\n",
              "      <td>radio/tv</td>\n",
              "      <td>1169</td>\n",
              "      <td>'no known savings'</td>\n",
              "      <td>&gt;=7</td>\n",
              "      <td>4</td>\n",
              "      <td>'male single'</td>\n",
              "      <td>none</td>\n",
              "      <td>...</td>\n",
              "      <td>'real estate'</td>\n",
              "      <td>67</td>\n",
              "      <td>none</td>\n",
              "      <td>own</td>\n",
              "      <td>2</td>\n",
              "      <td>skilled</td>\n",
              "      <td>1</td>\n",
              "      <td>yes</td>\n",
              "      <td>yes</td>\n",
              "      <td>good</td>\n",
              "    </tr>\n",
              "    <tr>\n",
              "      <th>1</th>\n",
              "      <td>0&lt;=X&lt;200</td>\n",
              "      <td>48</td>\n",
              "      <td>'existing paid'</td>\n",
              "      <td>radio/tv</td>\n",
              "      <td>5951</td>\n",
              "      <td>&lt;100</td>\n",
              "      <td>1&lt;=X&lt;4</td>\n",
              "      <td>2</td>\n",
              "      <td>'female div/dep/mar'</td>\n",
              "      <td>none</td>\n",
              "      <td>...</td>\n",
              "      <td>'real estate'</td>\n",
              "      <td>22</td>\n",
              "      <td>none</td>\n",
              "      <td>own</td>\n",
              "      <td>1</td>\n",
              "      <td>skilled</td>\n",
              "      <td>1</td>\n",
              "      <td>none</td>\n",
              "      <td>yes</td>\n",
              "      <td>bad</td>\n",
              "    </tr>\n",
              "    <tr>\n",
              "      <th>2</th>\n",
              "      <td>'no checking'</td>\n",
              "      <td>12</td>\n",
              "      <td>'critical/other existing credit'</td>\n",
              "      <td>education</td>\n",
              "      <td>2096</td>\n",
              "      <td>&lt;100</td>\n",
              "      <td>4&lt;=X&lt;7</td>\n",
              "      <td>2</td>\n",
              "      <td>'male single'</td>\n",
              "      <td>none</td>\n",
              "      <td>...</td>\n",
              "      <td>'real estate'</td>\n",
              "      <td>49</td>\n",
              "      <td>none</td>\n",
              "      <td>own</td>\n",
              "      <td>1</td>\n",
              "      <td>'unskilled resident'</td>\n",
              "      <td>2</td>\n",
              "      <td>none</td>\n",
              "      <td>yes</td>\n",
              "      <td>good</td>\n",
              "    </tr>\n",
              "    <tr>\n",
              "      <th>3</th>\n",
              "      <td>&lt;0</td>\n",
              "      <td>42</td>\n",
              "      <td>'existing paid'</td>\n",
              "      <td>furniture/equipment</td>\n",
              "      <td>7882</td>\n",
              "      <td>&lt;100</td>\n",
              "      <td>4&lt;=X&lt;7</td>\n",
              "      <td>2</td>\n",
              "      <td>'male single'</td>\n",
              "      <td>guarantor</td>\n",
              "      <td>...</td>\n",
              "      <td>'life insurance'</td>\n",
              "      <td>45</td>\n",
              "      <td>none</td>\n",
              "      <td>'for free'</td>\n",
              "      <td>1</td>\n",
              "      <td>skilled</td>\n",
              "      <td>2</td>\n",
              "      <td>none</td>\n",
              "      <td>yes</td>\n",
              "      <td>good</td>\n",
              "    </tr>\n",
              "    <tr>\n",
              "      <th>4</th>\n",
              "      <td>&lt;0</td>\n",
              "      <td>24</td>\n",
              "      <td>'delayed previously'</td>\n",
              "      <td>'new car'</td>\n",
              "      <td>4870</td>\n",
              "      <td>&lt;100</td>\n",
              "      <td>1&lt;=X&lt;4</td>\n",
              "      <td>3</td>\n",
              "      <td>'male single'</td>\n",
              "      <td>none</td>\n",
              "      <td>...</td>\n",
              "      <td>'no known property'</td>\n",
              "      <td>53</td>\n",
              "      <td>none</td>\n",
              "      <td>'for free'</td>\n",
              "      <td>2</td>\n",
              "      <td>skilled</td>\n",
              "      <td>2</td>\n",
              "      <td>none</td>\n",
              "      <td>yes</td>\n",
              "      <td>bad</td>\n",
              "    </tr>\n",
              "  </tbody>\n",
              "</table>\n",
              "<p>5 rows × 21 columns</p>\n",
              "</div>\n",
              "      <button class=\"colab-df-convert\" onclick=\"convertToInteractive('df-56feb47b-ea18-461d-9036-a3ab23e20035')\"\n",
              "              title=\"Convert this dataframe to an interactive table.\"\n",
              "              style=\"display:none;\">\n",
              "        \n",
              "  <svg xmlns=\"http://www.w3.org/2000/svg\" height=\"24px\"viewBox=\"0 0 24 24\"\n",
              "       width=\"24px\">\n",
              "    <path d=\"M0 0h24v24H0V0z\" fill=\"none\"/>\n",
              "    <path d=\"M18.56 5.44l.94 2.06.94-2.06 2.06-.94-2.06-.94-.94-2.06-.94 2.06-2.06.94zm-11 1L8.5 8.5l.94-2.06 2.06-.94-2.06-.94L8.5 2.5l-.94 2.06-2.06.94zm10 10l.94 2.06.94-2.06 2.06-.94-2.06-.94-.94-2.06-.94 2.06-2.06.94z\"/><path d=\"M17.41 7.96l-1.37-1.37c-.4-.4-.92-.59-1.43-.59-.52 0-1.04.2-1.43.59L10.3 9.45l-7.72 7.72c-.78.78-.78 2.05 0 2.83L4 21.41c.39.39.9.59 1.41.59.51 0 1.02-.2 1.41-.59l7.78-7.78 2.81-2.81c.8-.78.8-2.07 0-2.86zM5.41 20L4 18.59l7.72-7.72 1.47 1.35L5.41 20z\"/>\n",
              "  </svg>\n",
              "      </button>\n",
              "      \n",
              "  <style>\n",
              "    .colab-df-container {\n",
              "      display:flex;\n",
              "      flex-wrap:wrap;\n",
              "      gap: 12px;\n",
              "    }\n",
              "\n",
              "    .colab-df-convert {\n",
              "      background-color: #E8F0FE;\n",
              "      border: none;\n",
              "      border-radius: 50%;\n",
              "      cursor: pointer;\n",
              "      display: none;\n",
              "      fill: #1967D2;\n",
              "      height: 32px;\n",
              "      padding: 0 0 0 0;\n",
              "      width: 32px;\n",
              "    }\n",
              "\n",
              "    .colab-df-convert:hover {\n",
              "      background-color: #E2EBFA;\n",
              "      box-shadow: 0px 1px 2px rgba(60, 64, 67, 0.3), 0px 1px 3px 1px rgba(60, 64, 67, 0.15);\n",
              "      fill: #174EA6;\n",
              "    }\n",
              "\n",
              "    [theme=dark] .colab-df-convert {\n",
              "      background-color: #3B4455;\n",
              "      fill: #D2E3FC;\n",
              "    }\n",
              "\n",
              "    [theme=dark] .colab-df-convert:hover {\n",
              "      background-color: #434B5C;\n",
              "      box-shadow: 0px 1px 3px 1px rgba(0, 0, 0, 0.15);\n",
              "      filter: drop-shadow(0px 1px 2px rgba(0, 0, 0, 0.3));\n",
              "      fill: #FFFFFF;\n",
              "    }\n",
              "  </style>\n",
              "\n",
              "      <script>\n",
              "        const buttonEl =\n",
              "          document.querySelector('#df-56feb47b-ea18-461d-9036-a3ab23e20035 button.colab-df-convert');\n",
              "        buttonEl.style.display =\n",
              "          google.colab.kernel.accessAllowed ? 'block' : 'none';\n",
              "\n",
              "        async function convertToInteractive(key) {\n",
              "          const element = document.querySelector('#df-56feb47b-ea18-461d-9036-a3ab23e20035');\n",
              "          const dataTable =\n",
              "            await google.colab.kernel.invokeFunction('convertToInteractive',\n",
              "                                                     [key], {});\n",
              "          if (!dataTable) return;\n",
              "\n",
              "          const docLinkHtml = 'Like what you see? Visit the ' +\n",
              "            '<a target=\"_blank\" href=https://colab.research.google.com/notebooks/data_table.ipynb>data table notebook</a>'\n",
              "            + ' to learn more about interactive tables.';\n",
              "          element.innerHTML = '';\n",
              "          dataTable['output_type'] = 'display_data';\n",
              "          await google.colab.output.renderOutput(dataTable, element);\n",
              "          const docLink = document.createElement('div');\n",
              "          docLink.innerHTML = docLinkHtml;\n",
              "          element.appendChild(docLink);\n",
              "        }\n",
              "      </script>\n",
              "    </div>\n",
              "  </div>\n",
              "  "
            ]
          },
          "metadata": {},
          "execution_count": 51
        }
      ]
    },
    {
      "cell_type": "code",
      "source": [
        "previsores = credito.iloc[:, 0:20].values\n",
        "classe = credito.iloc[:, 20].values\n",
        "\n",
        "# Transformação dos atributos categóricos em atributos numéricos, passando o índice de cada coluna categórica\n",
        "# Precisamos criar um objeto para cada atributo categórico, pois na sequência vamos executar o processo de encoding novamente para o registro de teste\n",
        "# Se forem utilizados objetos diferentes, o número atribuído a cada valor poderá ser diferente, o que deixará o teste inconsistente\n",
        "labelencoder1 = LabelEncoder()\n",
        "previsores[:, 0] = labelencoder1.fit_transform(previsores[:, 0])\n",
        "\n",
        "labelencoder2 = LabelEncoder()\n",
        "previsores[:, 2] = labelencoder2.fit_transform(previsores[:, 2])\n",
        "\n",
        "labelencoder3 = LabelEncoder()\n",
        "previsores[:, 3] = labelencoder3.fit_transform(previsores[:, 3])\n",
        "\n",
        "labelencoder4 = LabelEncoder()\n",
        "previsores[:, 5] = labelencoder4.fit_transform(previsores[:, 5])\n",
        "\n",
        "labelencoder5 = LabelEncoder()\n",
        "previsores[:, 6] = labelencoder5.fit_transform(previsores[:, 6])\n",
        "\n",
        "labelencoder6 = LabelEncoder()\n",
        "previsores[:, 8] = labelencoder6.fit_transform(previsores[:, 8])\n",
        "\n",
        "labelencoder7 = LabelEncoder()\n",
        "previsores[:, 9] = labelencoder7.fit_transform(previsores[:, 9])\n",
        "\n",
        "labelencoder8 = LabelEncoder()\n",
        "previsores[:, 11] = labelencoder8.fit_transform(previsores[:, 11])\n",
        "\n",
        "labelencoder9 = LabelEncoder()\n",
        "previsores[:, 13] = labelencoder9.fit_transform(previsores[:, 13])\n",
        "\n",
        "labelencoder10 = LabelEncoder()\n",
        "previsores[:, 14] = labelencoder10.fit_transform(previsores[:, 14])\n",
        "\n",
        "labelencoder11 = LabelEncoder()\n",
        "previsores[:, 16] = labelencoder11.fit_transform(previsores[:, 16])\n",
        "\n",
        "labelencoder12 = LabelEncoder()\n",
        "previsores[:, 18] = labelencoder12.fit_transform(previsores[:, 18])\n",
        "\n",
        "labelencoder13 = LabelEncoder()\n",
        "previsores[:, 19] = labelencoder13.fit_transform(previsores[:, 19])"
      ],
      "metadata": {
        "id": "cd9cyZZGudyU"
      },
      "execution_count": 52,
      "outputs": []
    },
    {
      "cell_type": "code",
      "source": [
        "# Divisão da base de dados entre treinamento e teste ( 30% para testar e 70% para treinar )\n",
        "X_treinamento, X_teste, y_treinamento, y_teste = train_test_split(previsores,\n",
        "                                                                  classe,\n",
        "                                                                  test_size = 0.3,\n",
        "                                                                  random_state = 0)\n",
        "X_teste"
      ],
      "metadata": {
        "colab": {
          "base_uri": "https://localhost:8080/"
        },
        "id": "5t8rc1qBwZBL",
        "outputId": "7b5d29b7-20a3-49bb-a51d-59d3fc56eb52"
      },
      "execution_count": 53,
      "outputs": [
        {
          "output_type": "execute_result",
          "data": {
            "text/plain": [
              "array([[2, 36, 3, ..., 1, 1, 1],\n",
              "       [0, 9, 3, ..., 2, 0, 0],\n",
              "       [0, 18, 3, ..., 1, 1, 1],\n",
              "       ...,\n",
              "       [0, 24, 1, ..., 1, 0, 1],\n",
              "       [1, 27, 4, ..., 1, 1, 1],\n",
              "       [1, 12, 3, ..., 1, 0, 1]], dtype=object)"
            ]
          },
          "metadata": {},
          "execution_count": 53
        }
      ]
    },
    {
      "cell_type": "code",
      "source": [
        "# Criação e treinamento do modelo ( geração da tabela de probabilidades )\n",
        "naive_bayes = GaussianNB()\n",
        "naive_bayes.fit(X_treinamento, y_treinamento)"
      ],
      "metadata": {
        "colab": {
          "base_uri": "https://localhost:8080/",
          "height": 74
        },
        "id": "JiMC9Kquw8OZ",
        "outputId": "a37b28cc-33c6-4923-a5bb-446e3c4622c7"
      },
      "execution_count": 54,
      "outputs": [
        {
          "output_type": "execute_result",
          "data": {
            "text/plain": [
              "GaussianNB()"
            ],
            "text/html": [
              "<style>#sk-container-id-4 {color: black;background-color: white;}#sk-container-id-4 pre{padding: 0;}#sk-container-id-4 div.sk-toggleable {background-color: white;}#sk-container-id-4 label.sk-toggleable__label {cursor: pointer;display: block;width: 100%;margin-bottom: 0;padding: 0.3em;box-sizing: border-box;text-align: center;}#sk-container-id-4 label.sk-toggleable__label-arrow:before {content: \"▸\";float: left;margin-right: 0.25em;color: #696969;}#sk-container-id-4 label.sk-toggleable__label-arrow:hover:before {color: black;}#sk-container-id-4 div.sk-estimator:hover label.sk-toggleable__label-arrow:before {color: black;}#sk-container-id-4 div.sk-toggleable__content {max-height: 0;max-width: 0;overflow: hidden;text-align: left;background-color: #f0f8ff;}#sk-container-id-4 div.sk-toggleable__content pre {margin: 0.2em;color: black;border-radius: 0.25em;background-color: #f0f8ff;}#sk-container-id-4 input.sk-toggleable__control:checked~div.sk-toggleable__content {max-height: 200px;max-width: 100%;overflow: auto;}#sk-container-id-4 input.sk-toggleable__control:checked~label.sk-toggleable__label-arrow:before {content: \"▾\";}#sk-container-id-4 div.sk-estimator input.sk-toggleable__control:checked~label.sk-toggleable__label {background-color: #d4ebff;}#sk-container-id-4 div.sk-label input.sk-toggleable__control:checked~label.sk-toggleable__label {background-color: #d4ebff;}#sk-container-id-4 input.sk-hidden--visually {border: 0;clip: rect(1px 1px 1px 1px);clip: rect(1px, 1px, 1px, 1px);height: 1px;margin: -1px;overflow: hidden;padding: 0;position: absolute;width: 1px;}#sk-container-id-4 div.sk-estimator {font-family: monospace;background-color: #f0f8ff;border: 1px dotted black;border-radius: 0.25em;box-sizing: border-box;margin-bottom: 0.5em;}#sk-container-id-4 div.sk-estimator:hover {background-color: #d4ebff;}#sk-container-id-4 div.sk-parallel-item::after {content: \"\";width: 100%;border-bottom: 1px solid gray;flex-grow: 1;}#sk-container-id-4 div.sk-label:hover label.sk-toggleable__label {background-color: #d4ebff;}#sk-container-id-4 div.sk-serial::before {content: \"\";position: absolute;border-left: 1px solid gray;box-sizing: border-box;top: 0;bottom: 0;left: 50%;z-index: 0;}#sk-container-id-4 div.sk-serial {display: flex;flex-direction: column;align-items: center;background-color: white;padding-right: 0.2em;padding-left: 0.2em;position: relative;}#sk-container-id-4 div.sk-item {position: relative;z-index: 1;}#sk-container-id-4 div.sk-parallel {display: flex;align-items: stretch;justify-content: center;background-color: white;position: relative;}#sk-container-id-4 div.sk-item::before, #sk-container-id-4 div.sk-parallel-item::before {content: \"\";position: absolute;border-left: 1px solid gray;box-sizing: border-box;top: 0;bottom: 0;left: 50%;z-index: -1;}#sk-container-id-4 div.sk-parallel-item {display: flex;flex-direction: column;z-index: 1;position: relative;background-color: white;}#sk-container-id-4 div.sk-parallel-item:first-child::after {align-self: flex-end;width: 50%;}#sk-container-id-4 div.sk-parallel-item:last-child::after {align-self: flex-start;width: 50%;}#sk-container-id-4 div.sk-parallel-item:only-child::after {width: 0;}#sk-container-id-4 div.sk-dashed-wrapped {border: 1px dashed gray;margin: 0 0.4em 0.5em 0.4em;box-sizing: border-box;padding-bottom: 0.4em;background-color: white;}#sk-container-id-4 div.sk-label label {font-family: monospace;font-weight: bold;display: inline-block;line-height: 1.2em;}#sk-container-id-4 div.sk-label-container {text-align: center;}#sk-container-id-4 div.sk-container {/* jupyter's `normalize.less` sets `[hidden] { display: none; }` but bootstrap.min.css set `[hidden] { display: none !important; }` so we also need the `!important` here to be able to override the default hidden behavior on the sphinx rendered scikit-learn.org. See: https://github.com/scikit-learn/scikit-learn/issues/21755 */display: inline-block !important;position: relative;}#sk-container-id-4 div.sk-text-repr-fallback {display: none;}</style><div id=\"sk-container-id-4\" class=\"sk-top-container\"><div class=\"sk-text-repr-fallback\"><pre>GaussianNB()</pre><b>In a Jupyter environment, please rerun this cell to show the HTML representation or trust the notebook. <br />On GitHub, the HTML representation is unable to render, please try loading this page with nbviewer.org.</b></div><div class=\"sk-container\" hidden><div class=\"sk-item\"><div class=\"sk-estimator sk-toggleable\"><input class=\"sk-toggleable__control sk-hidden--visually\" id=\"sk-estimator-id-4\" type=\"checkbox\" checked><label for=\"sk-estimator-id-4\" class=\"sk-toggleable__label sk-toggleable__label-arrow\">GaussianNB</label><div class=\"sk-toggleable__content\"><pre>GaussianNB()</pre></div></div></div></div></div>"
            ]
          },
          "metadata": {},
          "execution_count": 54
        }
      ]
    },
    {
      "cell_type": "code",
      "source": [
        "# Previsões utilizando os registros de teste\n",
        "previsoes = naive_bayes.predict(X_teste)\n",
        "previsoes"
      ],
      "metadata": {
        "colab": {
          "base_uri": "https://localhost:8080/"
        },
        "id": "DRR2ejKJxNYE",
        "outputId": "9481de15-72c0-4910-e95f-ec9eaa3061e3"
      },
      "execution_count": 55,
      "outputs": [
        {
          "output_type": "execute_result",
          "data": {
            "text/plain": [
              "array(['bad', 'good', 'good', 'good', 'bad', 'good', 'good', 'good',\n",
              "       'good', 'bad', 'bad', 'bad', 'good', 'bad', 'good', 'good', 'good',\n",
              "       'good', 'bad', 'good', 'bad', 'good', 'bad', 'good', 'good', 'bad',\n",
              "       'good', 'good', 'good', 'bad', 'good', 'good', 'good', 'good',\n",
              "       'good', 'bad', 'good', 'good', 'good', 'good', 'good', 'bad',\n",
              "       'good', 'good', 'good', 'bad', 'bad', 'bad', 'bad', 'bad', 'good',\n",
              "       'bad', 'good', 'good', 'good', 'good', 'bad', 'good', 'good',\n",
              "       'good', 'bad', 'good', 'good', 'good', 'good', 'good', 'good',\n",
              "       'good', 'bad', 'good', 'good', 'good', 'good', 'good', 'bad',\n",
              "       'good', 'good', 'good', 'good', 'good', 'good', 'good', 'good',\n",
              "       'bad', 'good', 'good', 'bad', 'bad', 'good', 'bad', 'good', 'good',\n",
              "       'good', 'good', 'good', 'good', 'good', 'good', 'good', 'good',\n",
              "       'good', 'good', 'good', 'bad', 'good', 'good', 'bad', 'bad',\n",
              "       'good', 'good', 'good', 'bad', 'good', 'good', 'bad', 'good',\n",
              "       'good', 'good', 'good', 'bad', 'bad', 'good', 'good', 'bad',\n",
              "       'good', 'good', 'good', 'good', 'good', 'good', 'good', 'good',\n",
              "       'bad', 'good', 'good', 'good', 'good', 'good', 'good', 'bad',\n",
              "       'bad', 'bad', 'good', 'bad', 'good', 'good', 'good', 'bad', 'bad',\n",
              "       'bad', 'good', 'good', 'good', 'good', 'good', 'good', 'good',\n",
              "       'good', 'good', 'good', 'bad', 'bad', 'bad', 'good', 'bad', 'bad',\n",
              "       'good', 'good', 'good', 'good', 'bad', 'good', 'bad', 'bad',\n",
              "       'good', 'good', 'good', 'bad', 'good', 'good', 'good', 'good',\n",
              "       'bad', 'bad', 'good', 'bad', 'good', 'good', 'good', 'good',\n",
              "       'good', 'bad', 'good', 'good', 'good', 'good', 'good', 'good',\n",
              "       'good', 'good', 'good', 'bad', 'bad', 'good', 'good', 'good',\n",
              "       'bad', 'good', 'good', 'good', 'bad', 'bad', 'bad', 'good', 'bad',\n",
              "       'good', 'good', 'bad', 'good', 'bad', 'bad', 'good', 'good',\n",
              "       'good', 'good', 'bad', 'good', 'bad', 'bad', 'good', 'good',\n",
              "       'good', 'good', 'good', 'bad', 'good', 'good', 'good', 'bad',\n",
              "       'bad', 'good', 'good', 'good', 'good', 'good', 'bad', 'good',\n",
              "       'good', 'good', 'good', 'good', 'bad', 'good', 'good', 'good',\n",
              "       'good', 'good', 'bad', 'good', 'good', 'bad', 'good', 'good',\n",
              "       'good', 'bad', 'bad', 'bad', 'good', 'good', 'good', 'good',\n",
              "       'good', 'good', 'good', 'bad', 'good', 'good', 'bad', 'good',\n",
              "       'good', 'good', 'good', 'good', 'good', 'good', 'good', 'good',\n",
              "       'good', 'good', 'good', 'good', 'good', 'good', 'good', 'good',\n",
              "       'good', 'bad', 'good', 'bad', 'good'], dtype='<U4')"
            ]
          },
          "metadata": {},
          "execution_count": 55
        }
      ]
    },
    {
      "cell_type": "code",
      "source": [
        "# Geração da matriz de confusão e cálculo da taxa de acerto e erro\n",
        "confusao = confusion_matrix(y_teste, previsoes)\n",
        "confusao"
      ],
      "metadata": {
        "colab": {
          "base_uri": "https://localhost:8080/"
        },
        "id": "b0G89m5axalL",
        "outputId": "c9b6d418-8be6-41df-9ffa-4d22b2b81e56"
      },
      "execution_count": 56,
      "outputs": [
        {
          "output_type": "execute_result",
          "data": {
            "text/plain": [
              "array([[ 41,  45],\n",
              "       [ 42, 172]])"
            ]
          },
          "metadata": {},
          "execution_count": 56
        }
      ]
    },
    {
      "cell_type": "code",
      "source": [
        "taxa_acerto = accuracy_score(y_teste, previsoes)\n",
        "taxa_acerto"
      ],
      "metadata": {
        "colab": {
          "base_uri": "https://localhost:8080/"
        },
        "id": "z93vx3D6xsNP",
        "outputId": "0715fcf6-ac34-4626-8443-254fa0948492"
      },
      "execution_count": 57,
      "outputs": [
        {
          "output_type": "execute_result",
          "data": {
            "text/plain": [
              "0.71"
            ]
          },
          "metadata": {},
          "execution_count": 57
        }
      ]
    },
    {
      "cell_type": "code",
      "source": [
        "taxa_erro = 1 - taxa_acerto\n",
        "taxa_erro"
      ],
      "metadata": {
        "colab": {
          "base_uri": "https://localhost:8080/"
        },
        "id": "hjbcD1zsx2j-",
        "outputId": "7032a030-071b-42fd-a8fd-1a110fb196b3"
      },
      "execution_count": 58,
      "outputs": [
        {
          "output_type": "execute_result",
          "data": {
            "text/plain": [
              "0.29000000000000004"
            ]
          },
          "metadata": {},
          "execution_count": 58
        }
      ]
    },
    {
      "cell_type": "code",
      "source": [
        "# Previsões com novo registro, transformando os atributos categóricos em numéricos\n",
        "novo_credito = pd.read_csv(\"NovoCredit.csv\")\n",
        "novo_credito.shape"
      ],
      "metadata": {
        "colab": {
          "base_uri": "https://localhost:8080/"
        },
        "id": "3_58C3sjyB5k",
        "outputId": "e97c30f5-cc5e-4450-87eb-b4987409e0c2"
      },
      "execution_count": 59,
      "outputs": [
        {
          "output_type": "execute_result",
          "data": {
            "text/plain": [
              "(1, 20)"
            ]
          },
          "metadata": {},
          "execution_count": 59
        }
      ]
    },
    {
      "cell_type": "code",
      "source": [
        "novo_credito.head()"
      ],
      "metadata": {
        "colab": {
          "base_uri": "https://localhost:8080/",
          "height": 145
        },
        "id": "iVTc5jnKzRP_",
        "outputId": "0e5283de-307e-4139-8045-95dc01895120"
      },
      "execution_count": 60,
      "outputs": [
        {
          "output_type": "execute_result",
          "data": {
            "text/plain": [
              "  checking_status  duration   credit_history   purpose  credit_amount  \\\n",
              "0   'no checking'        12  'existing paid'  radio/tv            804   \n",
              "\n",
              "  savings_status employment  installment_commitment personal_status  \\\n",
              "0           <100        >=7                       4   'male single'   \n",
              "\n",
              "  other_parties  residence_since property_magnitude  age other_payment_plans  \\\n",
              "0          none                4                car   38                none   \n",
              "\n",
              "  housing  existing_credits      job  num_dependents own_telephone  \\\n",
              "0     own                 1  skilled               1          none   \n",
              "\n",
              "  foreign_worker  \n",
              "0            yes  "
            ],
            "text/html": [
              "\n",
              "  <div id=\"df-25ddfdcd-1d7a-4c0f-9b23-3f457c766ef4\">\n",
              "    <div class=\"colab-df-container\">\n",
              "      <div>\n",
              "<style scoped>\n",
              "    .dataframe tbody tr th:only-of-type {\n",
              "        vertical-align: middle;\n",
              "    }\n",
              "\n",
              "    .dataframe tbody tr th {\n",
              "        vertical-align: top;\n",
              "    }\n",
              "\n",
              "    .dataframe thead th {\n",
              "        text-align: right;\n",
              "    }\n",
              "</style>\n",
              "<table border=\"1\" class=\"dataframe\">\n",
              "  <thead>\n",
              "    <tr style=\"text-align: right;\">\n",
              "      <th></th>\n",
              "      <th>checking_status</th>\n",
              "      <th>duration</th>\n",
              "      <th>credit_history</th>\n",
              "      <th>purpose</th>\n",
              "      <th>credit_amount</th>\n",
              "      <th>savings_status</th>\n",
              "      <th>employment</th>\n",
              "      <th>installment_commitment</th>\n",
              "      <th>personal_status</th>\n",
              "      <th>other_parties</th>\n",
              "      <th>residence_since</th>\n",
              "      <th>property_magnitude</th>\n",
              "      <th>age</th>\n",
              "      <th>other_payment_plans</th>\n",
              "      <th>housing</th>\n",
              "      <th>existing_credits</th>\n",
              "      <th>job</th>\n",
              "      <th>num_dependents</th>\n",
              "      <th>own_telephone</th>\n",
              "      <th>foreign_worker</th>\n",
              "    </tr>\n",
              "  </thead>\n",
              "  <tbody>\n",
              "    <tr>\n",
              "      <th>0</th>\n",
              "      <td>'no checking'</td>\n",
              "      <td>12</td>\n",
              "      <td>'existing paid'</td>\n",
              "      <td>radio/tv</td>\n",
              "      <td>804</td>\n",
              "      <td>&lt;100</td>\n",
              "      <td>&gt;=7</td>\n",
              "      <td>4</td>\n",
              "      <td>'male single'</td>\n",
              "      <td>none</td>\n",
              "      <td>4</td>\n",
              "      <td>car</td>\n",
              "      <td>38</td>\n",
              "      <td>none</td>\n",
              "      <td>own</td>\n",
              "      <td>1</td>\n",
              "      <td>skilled</td>\n",
              "      <td>1</td>\n",
              "      <td>none</td>\n",
              "      <td>yes</td>\n",
              "    </tr>\n",
              "  </tbody>\n",
              "</table>\n",
              "</div>\n",
              "      <button class=\"colab-df-convert\" onclick=\"convertToInteractive('df-25ddfdcd-1d7a-4c0f-9b23-3f457c766ef4')\"\n",
              "              title=\"Convert this dataframe to an interactive table.\"\n",
              "              style=\"display:none;\">\n",
              "        \n",
              "  <svg xmlns=\"http://www.w3.org/2000/svg\" height=\"24px\"viewBox=\"0 0 24 24\"\n",
              "       width=\"24px\">\n",
              "    <path d=\"M0 0h24v24H0V0z\" fill=\"none\"/>\n",
              "    <path d=\"M18.56 5.44l.94 2.06.94-2.06 2.06-.94-2.06-.94-.94-2.06-.94 2.06-2.06.94zm-11 1L8.5 8.5l.94-2.06 2.06-.94-2.06-.94L8.5 2.5l-.94 2.06-2.06.94zm10 10l.94 2.06.94-2.06 2.06-.94-2.06-.94-.94-2.06-.94 2.06-2.06.94z\"/><path d=\"M17.41 7.96l-1.37-1.37c-.4-.4-.92-.59-1.43-.59-.52 0-1.04.2-1.43.59L10.3 9.45l-7.72 7.72c-.78.78-.78 2.05 0 2.83L4 21.41c.39.39.9.59 1.41.59.51 0 1.02-.2 1.41-.59l7.78-7.78 2.81-2.81c.8-.78.8-2.07 0-2.86zM5.41 20L4 18.59l7.72-7.72 1.47 1.35L5.41 20z\"/>\n",
              "  </svg>\n",
              "      </button>\n",
              "      \n",
              "  <style>\n",
              "    .colab-df-container {\n",
              "      display:flex;\n",
              "      flex-wrap:wrap;\n",
              "      gap: 12px;\n",
              "    }\n",
              "\n",
              "    .colab-df-convert {\n",
              "      background-color: #E8F0FE;\n",
              "      border: none;\n",
              "      border-radius: 50%;\n",
              "      cursor: pointer;\n",
              "      display: none;\n",
              "      fill: #1967D2;\n",
              "      height: 32px;\n",
              "      padding: 0 0 0 0;\n",
              "      width: 32px;\n",
              "    }\n",
              "\n",
              "    .colab-df-convert:hover {\n",
              "      background-color: #E2EBFA;\n",
              "      box-shadow: 0px 1px 2px rgba(60, 64, 67, 0.3), 0px 1px 3px 1px rgba(60, 64, 67, 0.15);\n",
              "      fill: #174EA6;\n",
              "    }\n",
              "\n",
              "    [theme=dark] .colab-df-convert {\n",
              "      background-color: #3B4455;\n",
              "      fill: #D2E3FC;\n",
              "    }\n",
              "\n",
              "    [theme=dark] .colab-df-convert:hover {\n",
              "      background-color: #434B5C;\n",
              "      box-shadow: 0px 1px 3px 1px rgba(0, 0, 0, 0.15);\n",
              "      filter: drop-shadow(0px 1px 2px rgba(0, 0, 0, 0.3));\n",
              "      fill: #FFFFFF;\n",
              "    }\n",
              "  </style>\n",
              "\n",
              "      <script>\n",
              "        const buttonEl =\n",
              "          document.querySelector('#df-25ddfdcd-1d7a-4c0f-9b23-3f457c766ef4 button.colab-df-convert');\n",
              "        buttonEl.style.display =\n",
              "          google.colab.kernel.accessAllowed ? 'block' : 'none';\n",
              "\n",
              "        async function convertToInteractive(key) {\n",
              "          const element = document.querySelector('#df-25ddfdcd-1d7a-4c0f-9b23-3f457c766ef4');\n",
              "          const dataTable =\n",
              "            await google.colab.kernel.invokeFunction('convertToInteractive',\n",
              "                                                     [key], {});\n",
              "          if (!dataTable) return;\n",
              "\n",
              "          const docLinkHtml = 'Like what you see? Visit the ' +\n",
              "            '<a target=\"_blank\" href=https://colab.research.google.com/notebooks/data_table.ipynb>data table notebook</a>'\n",
              "            + ' to learn more about interactive tables.';\n",
              "          element.innerHTML = '';\n",
              "          dataTable['output_type'] = 'display_data';\n",
              "          await google.colab.output.renderOutput(dataTable, element);\n",
              "          const docLink = document.createElement('div');\n",
              "          docLink.innerHTML = docLinkHtml;\n",
              "          element.appendChild(docLink);\n",
              "        }\n",
              "      </script>\n",
              "    </div>\n",
              "  </div>\n",
              "  "
            ]
          },
          "metadata": {},
          "execution_count": 60
        }
      ]
    },
    {
      "cell_type": "code",
      "source": [
        "# Chamamos somente o método \"transform\", pois a adaptação aos dados (fit) já foi feita anteriormente\n",
        "novo_credito = novo_credito.iloc[:, 0:20].values\n",
        "novo_credito[:, 0] = labelencoder1.transform(novo_credito[:, 0])\n",
        "novo_credito[:, 2] = labelencoder2.transform(novo_credito[:, 2])\n",
        "novo_credito[:, 3] = labelencoder3.transform(novo_credito[:, 3])\n",
        "novo_credito[:, 5] = labelencoder4.transform(novo_credito[:, 5])\n",
        "novo_credito[:, 6] = labelencoder5.transform(novo_credito[:, 6])\n",
        "novo_credito[:, 8] = labelencoder6.transform(novo_credito[:, 8])\n",
        "novo_credito[:, 9] = labelencoder7.transform(novo_credito[:, 9])\n",
        "novo_credito[:, 11] = labelencoder8.transform(novo_credito[:,11])\n",
        "novo_credito[:, 13] = labelencoder9.transform(novo_credito[:, 13])\n",
        "novo_credito[:, 14] = labelencoder10.transform(novo_credito[:, 14])\n",
        "novo_credito[:, 16] = labelencoder11.transform(novo_credito[:, 16])\n",
        "novo_credito[:, 18] = labelencoder12.transform(novo_credito[:, 18])\n",
        "novo_credito[:, 19] = labelencoder13.transform(novo_credito[:, 19])"
      ],
      "metadata": {
        "id": "PCELaSXMyThQ"
      },
      "execution_count": 61,
      "outputs": []
    },
    {
      "cell_type": "code",
      "source": [
        "# Resultado da previsão\n",
        "naive_bayes.predict(novo_credito)"
      ],
      "metadata": {
        "colab": {
          "base_uri": "https://localhost:8080/"
        },
        "id": "eyrCclY5zH5j",
        "outputId": "5529be47-8c5d-4d78-fb39-d70c6cc852da"
      },
      "execution_count": 62,
      "outputs": [
        {
          "output_type": "execute_result",
          "data": {
            "text/plain": [
              "array(['good'], dtype='<U4')"
            ]
          },
          "metadata": {},
          "execution_count": 62
        }
      ]
    }
  ]
}