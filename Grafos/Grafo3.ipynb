{
 "cells": [
  {
   "cell_type": "code",
   "execution_count": 19,
   "id": "0d741dcf",
   "metadata": {},
   "outputs": [
    {
     "name": "stdout",
     "output_type": "stream",
     "text": [
      "[[0, 1, 1, 0, 1, 0, 0]\n",
      " [1, 0, 2, 0, 0, 0, 0]\n",
      " [1, 2, 0, 1, 0, 0, 0]\n",
      " [0, 0, 1, 0, 1, 0, 0]\n",
      " [1, 0, 0, 1, 0, 0, 0]\n",
      " [0, 0, 0, 0, 0, 0, 0]\n",
      " [0, 0, 0, 0, 0, 0, 0]]\n"
     ]
    }
   ],
   "source": [
    "from igraph import Graph\n",
    "from igraph import plot\n",
    "\n",
    "grafo1 = Graph(directed = False)\n",
    "grafo1.add_vertices(5)\n",
    "grafo1.add_vertex(5)\n",
    "grafo1.add_vertex(6)\n",
    "grafo1.add_edges([(0,1), (1,2), (2,3), (3,4), (4,0), (0,2), (2,1)])\n",
    "grafo1.vs[\"label\"] = [\"A\", \"B\", \"C\", \"D\", \"E\", \"F\", \"G\"]\n",
    "grafo1.vs[\"name\"] = [\"A\", \"B\", \"C\", \"D\", \"E\", \"F\", \"G\"]\n",
    "\n",
    "print(grafo1.get_adjacency())"
   ]
  },
  {
   "cell_type": "code",
   "execution_count": 20,
   "id": "2e41f2a7",
   "metadata": {},
   "outputs": [
    {
     "data": {
      "text/plain": [
       "[0, 1, 1, 0, 1, 0, 0]"
      ]
     },
     "execution_count": 20,
     "metadata": {},
     "output_type": "execute_result"
    }
   ],
   "source": [
    "grafo1.get_adjacency()[0,]"
   ]
  },
  {
   "cell_type": "code",
   "execution_count": 21,
   "id": "aaf0ee0b",
   "metadata": {},
   "outputs": [
    {
     "data": {
      "text/plain": [
       "1"
      ]
     },
     "execution_count": 21,
     "metadata": {},
     "output_type": "execute_result"
    }
   ],
   "source": [
    "grafo1.get_adjacency()[1,0]"
   ]
  },
  {
   "cell_type": "code",
   "execution_count": 22,
   "id": "3c01d799",
   "metadata": {},
   "outputs": [
    {
     "name": "stdout",
     "output_type": "stream",
     "text": [
      "igraph.Vertex(<igraph.Graph object at 0x0000024D23CB2310>, 0, {'name': 'A', 'label': 'A'})\n",
      "igraph.Vertex(<igraph.Graph object at 0x0000024D23CB2310>, 1, {'name': 'B', 'label': 'B'})\n",
      "igraph.Vertex(<igraph.Graph object at 0x0000024D23CB2310>, 2, {'name': 'C', 'label': 'C'})\n",
      "igraph.Vertex(<igraph.Graph object at 0x0000024D23CB2310>, 3, {'name': 'D', 'label': 'D'})\n",
      "igraph.Vertex(<igraph.Graph object at 0x0000024D23CB2310>, 4, {'name': 'E', 'label': 'E'})\n",
      "igraph.Vertex(<igraph.Graph object at 0x0000024D23CB2310>, 5, {'name': 'F', 'label': 'F'})\n",
      "igraph.Vertex(<igraph.Graph object at 0x0000024D23CB2310>, 6, {'name': 'G', 'label': 'G'})\n"
     ]
    }
   ],
   "source": [
    "for v in grafo1.vs:\n",
    "    print(v)"
   ]
  },
  {
   "cell_type": "code",
   "execution_count": 23,
   "id": "82d2a7da",
   "metadata": {},
   "outputs": [
    {
     "data": {
      "image/svg+xml": [
       "<?xml version=\"1.0\" encoding=\"UTF-8\"?>\n",
       "<svg xmlns=\"http://www.w3.org/2000/svg\" xmlns:xlink=\"http://www.w3.org/1999/xlink\" width=\"250pt\" height=\"250pt\" viewBox=\"0 0 250 250\" version=\"1.1\">\n",
       "<defs>\n",
       "<g>\n",
       "<symbol overflow=\"visible\" id=\"glyph0-0\">\n",
       "<path style=\"stroke:none;\" d=\"M 1.75 0 L 1.75 -8.75 L 8.75 -8.75 L 8.75 0 Z M 1.96875 -0.21875 L 8.53125 -0.21875 L 8.53125 -8.53125 L 1.96875 -8.53125 Z M 1.96875 -0.21875 \"/>\n",
       "</symbol>\n",
       "<symbol overflow=\"visible\" id=\"glyph0-1\">\n",
       "<path style=\"stroke:none;\" d=\"M -0.0195312 0 L 3.828125 -10.023438 L 5.257812 -10.023438 L 9.359375 0 L 7.847656 0 L 6.679688 -3.035156 L 2.488281 -3.035156 L 1.386719 0 Z M 2.871094 -4.117188 L 6.269531 -4.117188 L 5.222656 -6.890625 C 4.898438 -7.734375 4.664062 -8.425781 4.511719 -8.96875 C 4.382812 -8.324219 4.203125 -7.6875 3.972656 -7.054688 Z M 2.871094 -4.117188 \"/>\n",
       "</symbol>\n",
       "<symbol overflow=\"visible\" id=\"glyph0-2\">\n",
       "<path style=\"stroke:none;\" d=\"M 1.023438 0 L 1.023438 -10.023438 L 4.785156 -10.023438 C 5.546875 -10.019531 6.160156 -9.917969 6.625 -9.71875 C 7.085938 -9.511719 7.449219 -9.199219 7.714844 -8.78125 C 7.976562 -8.355469 8.109375 -7.914062 8.109375 -7.457031 C 8.109375 -7.027344 7.992188 -6.625 7.757812 -6.246094 C 7.523438 -5.867188 7.171875 -5.5625 6.707031 -5.332031 C 7.3125 -5.152344 7.777344 -4.847656 8.105469 -4.421875 C 8.425781 -3.992188 8.589844 -3.488281 8.59375 -2.90625 C 8.589844 -2.4375 8.492188 -2 8.296875 -1.597656 C 8.097656 -1.191406 7.851562 -0.878906 7.5625 -0.664062 C 7.269531 -0.441406 6.902344 -0.277344 6.464844 -0.167969 C 6.019531 -0.0546875 5.480469 0 4.847656 0 Z M 2.351562 -5.8125 L 4.519531 -5.8125 C 5.101562 -5.8125 5.523438 -5.847656 5.78125 -5.925781 C 6.117188 -6.023438 6.371094 -6.191406 6.542969 -6.425781 C 6.710938 -6.65625 6.796875 -6.949219 6.800781 -7.300781 C 6.796875 -7.632812 6.71875 -7.925781 6.5625 -8.179688 C 6.402344 -8.429688 6.171875 -8.601562 5.878906 -8.699219 C 5.578125 -8.789062 5.070312 -8.835938 4.355469 -8.839844 L 2.351562 -8.839844 Z M 2.351562 -1.183594 L 4.847656 -1.183594 C 5.269531 -1.183594 5.570312 -1.199219 5.75 -1.230469 C 6.050781 -1.285156 6.304688 -1.375 6.511719 -1.503906 C 6.714844 -1.628906 6.886719 -1.8125 7.019531 -2.058594 C 7.152344 -2.300781 7.21875 -2.585938 7.21875 -2.90625 C 7.21875 -3.277344 7.121094 -3.601562 6.929688 -3.878906 C 6.738281 -4.152344 6.472656 -4.34375 6.132812 -4.460938 C 5.792969 -4.570312 5.304688 -4.628906 4.667969 -4.628906 L 2.351562 -4.628906 Z M 2.351562 -1.183594 \"/>\n",
       "</symbol>\n",
       "<symbol overflow=\"visible\" id=\"glyph0-3\">\n",
       "<path style=\"stroke:none;\" d=\"M 8.230469 -3.515625 L 9.554688 -3.179688 C 9.277344 -2.089844 8.777344 -1.257812 8.054688 -0.6875 C 7.332031 -0.113281 6.449219 0.167969 5.40625 0.171875 C 4.324219 0.167969 3.445312 -0.046875 2.773438 -0.488281 C 2.09375 -0.925781 1.578125 -1.5625 1.226562 -2.398438 C 0.867188 -3.226562 0.691406 -4.125 0.695312 -5.085938 C 0.691406 -6.128906 0.890625 -7.039062 1.292969 -7.816406 C 1.691406 -8.59375 2.257812 -9.183594 2.996094 -9.585938 C 3.730469 -9.988281 4.542969 -10.1875 5.429688 -10.191406 C 6.425781 -10.1875 7.269531 -9.933594 7.957031 -9.425781 C 8.640625 -8.914062 9.117188 -8.195312 9.386719 -7.273438 L 8.078125 -6.964844 C 7.84375 -7.691406 7.507812 -8.222656 7.066406 -8.558594 C 6.625 -8.890625 6.066406 -9.058594 5.398438 -9.058594 C 4.625 -9.058594 3.984375 -8.871094 3.46875 -8.503906 C 2.953125 -8.128906 2.589844 -7.632812 2.378906 -7.015625 C 2.167969 -6.390625 2.0625 -5.75 2.0625 -5.09375 C 2.0625 -4.234375 2.183594 -3.492188 2.433594 -2.859375 C 2.679688 -2.222656 3.066406 -1.746094 3.59375 -1.433594 C 4.117188 -1.117188 4.6875 -0.960938 5.296875 -0.964844 C 6.039062 -0.960938 6.667969 -1.175781 7.183594 -1.605469 C 7.699219 -2.035156 8.046875 -2.671875 8.230469 -3.515625 Z M 8.230469 -3.515625 \"/>\n",
       "</symbol>\n",
       "<symbol overflow=\"visible\" id=\"glyph0-4\">\n",
       "<path style=\"stroke:none;\" d=\"M 1.078125 0 L 1.078125 -10.023438 L 4.53125 -10.023438 C 5.308594 -10.019531 5.90625 -9.972656 6.316406 -9.878906 C 6.890625 -9.746094 7.378906 -9.503906 7.785156 -9.160156 C 8.3125 -8.710938 8.707031 -8.140625 8.972656 -7.449219 C 9.230469 -6.75 9.363281 -5.957031 9.367188 -5.066406 C 9.363281 -4.300781 9.273438 -3.625 9.097656 -3.039062 C 8.917969 -2.449219 8.691406 -1.964844 8.414062 -1.582031 C 8.136719 -1.195312 7.832031 -0.890625 7.503906 -0.671875 C 7.171875 -0.449219 6.773438 -0.28125 6.304688 -0.171875 C 5.835938 -0.0546875 5.296875 0 4.695312 0 Z M 2.40625 -1.183594 L 4.546875 -1.183594 C 5.207031 -1.183594 5.722656 -1.242188 6.101562 -1.367188 C 6.472656 -1.484375 6.773438 -1.660156 7 -1.886719 C 7.3125 -2.199219 7.558594 -2.621094 7.734375 -3.15625 C 7.910156 -3.683594 7.996094 -4.328125 8 -5.085938 C 7.996094 -6.132812 7.824219 -6.9375 7.480469 -7.5 C 7.132812 -8.0625 6.714844 -8.4375 6.226562 -8.632812 C 5.871094 -8.765625 5.300781 -8.835938 4.511719 -8.839844 L 2.40625 -8.839844 Z M 2.40625 -1.183594 \"/>\n",
       "</symbol>\n",
       "<symbol overflow=\"visible\" id=\"glyph0-5\">\n",
       "<path style=\"stroke:none;\" d=\"M 1.109375 0 L 1.109375 -10.023438 L 8.351562 -10.023438 L 8.351562 -8.839844 L 2.433594 -8.839844 L 2.433594 -5.769531 L 7.976562 -5.769531 L 7.976562 -4.59375 L 2.433594 -4.59375 L 2.433594 -1.183594 L 8.585938 -1.183594 L 8.585938 0 Z M 1.109375 0 \"/>\n",
       "</symbol>\n",
       "<symbol overflow=\"visible\" id=\"glyph0-6\">\n",
       "<path style=\"stroke:none;\" d=\"M 1.148438 0 L 1.148438 -10.023438 L 7.910156 -10.023438 L 7.910156 -8.839844 L 2.476562 -8.839844 L 2.476562 -5.734375 L 7.179688 -5.734375 L 7.179688 -4.554688 L 2.476562 -4.554688 L 2.476562 0 Z M 1.148438 0 \"/>\n",
       "</symbol>\n",
       "<symbol overflow=\"visible\" id=\"glyph0-7\">\n",
       "<path style=\"stroke:none;\" d=\"M 5.769531 -3.929688 L 5.769531 -5.105469 L 10.015625 -5.113281 L 10.015625 -1.394531 C 9.359375 -0.875 8.6875 -0.484375 8 -0.222656 C 7.304688 0.0390625 6.59375 0.167969 5.867188 0.171875 C 4.878906 0.167969 3.984375 -0.0390625 3.183594 -0.460938 C 2.375 -0.878906 1.769531 -1.488281 1.359375 -2.289062 C 0.949219 -3.082031 0.742188 -3.972656 0.746094 -4.960938 C 0.742188 -5.933594 0.945312 -6.84375 1.355469 -7.691406 C 1.761719 -8.535156 2.351562 -9.164062 3.117188 -9.574219 C 3.882812 -9.984375 4.761719 -10.1875 5.761719 -10.191406 C 6.484375 -10.1875 7.140625 -10.070312 7.726562 -9.839844 C 8.308594 -9.601562 8.769531 -9.277344 9.105469 -8.859375 C 9.4375 -8.4375 9.6875 -7.890625 9.863281 -7.21875 L 8.667969 -6.890625 C 8.511719 -7.398438 8.324219 -7.796875 8.105469 -8.09375 C 7.878906 -8.382812 7.5625 -8.617188 7.148438 -8.792969 C 6.734375 -8.96875 6.273438 -9.058594 5.769531 -9.058594 C 5.160156 -9.058594 4.636719 -8.964844 4.195312 -8.78125 C 3.753906 -8.59375 3.394531 -8.351562 3.125 -8.050781 C 2.851562 -7.75 2.644531 -7.417969 2.496094 -7.0625 C 2.238281 -6.4375 2.109375 -5.765625 2.113281 -5.046875 C 2.109375 -4.148438 2.261719 -3.402344 2.574219 -2.800781 C 2.878906 -2.199219 3.328125 -1.75 3.914062 -1.460938 C 4.5 -1.164062 5.125 -1.019531 5.789062 -1.023438 C 6.363281 -1.019531 6.921875 -1.128906 7.472656 -1.355469 C 8.015625 -1.574219 8.429688 -1.8125 8.714844 -2.0625 L 8.714844 -3.929688 Z M 5.769531 -3.929688 \"/>\n",
       "</symbol>\n",
       "</g>\n",
       "</defs>\n",
       "<g id=\"surface74\">\n",
       "<rect x=\"0\" y=\"0\" width=\"250\" height=\"250\" style=\"fill:rgb(100%,100%,100%);fill-opacity:1;stroke:none;\"/>\n",
       "<path style=\"fill:none;stroke-width:1;stroke-linecap:butt;stroke-linejoin:miter;stroke:rgb(26.666667%,26.666667%,26.666667%);stroke-opacity:1;stroke-miterlimit:10;\" d=\"M 188.375 43.316406 L 230 97.574219 \"/>\n",
       "<path style=\"fill:none;stroke-width:1;stroke-linecap:butt;stroke-linejoin:miter;stroke:rgb(26.666667%,26.666667%,26.666667%);stroke-opacity:1;stroke-miterlimit:10;\" d=\"M 230 97.574219 C 209.027344 83.957031 189.066406 85.308594 170.121094 101.628906 \"/>\n",
       "<path style=\"fill:none;stroke-width:1;stroke-linecap:butt;stroke-linejoin:miter;stroke:rgb(26.666667%,26.666667%,26.666667%);stroke-opacity:1;stroke-miterlimit:10;\" d=\"M 170.121094 101.628906 L 89.480469 79.765625 \"/>\n",
       "<path style=\"fill:none;stroke-width:1;stroke-linecap:butt;stroke-linejoin:miter;stroke:rgb(26.666667%,26.666667%,26.666667%);stroke-opacity:1;stroke-miterlimit:10;\" d=\"M 89.480469 79.765625 L 111.636719 20 \"/>\n",
       "<path style=\"fill:none;stroke-width:1;stroke-linecap:butt;stroke-linejoin:miter;stroke:rgb(26.666667%,26.666667%,26.666667%);stroke-opacity:1;stroke-miterlimit:10;\" d=\"M 188.375 43.316406 L 111.636719 20 \"/>\n",
       "<path style=\"fill:none;stroke-width:1;stroke-linecap:butt;stroke-linejoin:miter;stroke:rgb(26.666667%,26.666667%,26.666667%);stroke-opacity:1;stroke-miterlimit:10;\" d=\"M 188.375 43.316406 L 170.121094 101.628906 \"/>\n",
       "<path style=\"fill:none;stroke-width:1;stroke-linecap:butt;stroke-linejoin:miter;stroke:rgb(26.666667%,26.666667%,26.666667%);stroke-opacity:1;stroke-miterlimit:10;\" d=\"M 230 97.574219 C 211.054688 113.898438 191.09375 115.246094 170.121094 101.628906 \"/>\n",
       "<path style=\"fill-rule:nonzero;fill:rgb(100%,0%,0%);fill-opacity:1;stroke-width:1;stroke-linecap:butt;stroke-linejoin:miter;stroke:rgb(0%,0%,0%);stroke-opacity:1;stroke-miterlimit:10;\" d=\"M 198.375 43.316406 C 198.375 48.839844 193.894531 53.316406 188.375 53.316406 C 182.851562 53.316406 178.375 48.839844 178.375 43.316406 C 178.375 37.792969 182.851562 33.316406 188.375 33.316406 C 193.894531 33.316406 198.375 37.792969 198.375 43.316406 \"/>\n",
       "<path style=\"fill-rule:nonzero;fill:rgb(100%,0%,0%);fill-opacity:1;stroke-width:1;stroke-linecap:butt;stroke-linejoin:miter;stroke:rgb(0%,0%,0%);stroke-opacity:1;stroke-miterlimit:10;\" d=\"M 240 97.574219 C 240 103.097656 235.523438 107.574219 230 107.574219 C 224.476562 107.574219 220 103.097656 220 97.574219 C 220 92.050781 224.476562 87.574219 230 87.574219 C 235.523438 87.574219 240 92.050781 240 97.574219 \"/>\n",
       "<path style=\"fill-rule:nonzero;fill:rgb(100%,0%,0%);fill-opacity:1;stroke-width:1;stroke-linecap:butt;stroke-linejoin:miter;stroke:rgb(0%,0%,0%);stroke-opacity:1;stroke-miterlimit:10;\" d=\"M 180.121094 101.628906 C 180.121094 107.152344 175.640625 111.628906 170.121094 111.628906 C 164.597656 111.628906 160.121094 107.152344 160.121094 101.628906 C 160.121094 96.105469 164.597656 91.628906 170.121094 91.628906 C 175.640625 91.628906 180.121094 96.105469 180.121094 101.628906 \"/>\n",
       "<path style=\"fill-rule:nonzero;fill:rgb(100%,0%,0%);fill-opacity:1;stroke-width:1;stroke-linecap:butt;stroke-linejoin:miter;stroke:rgb(0%,0%,0%);stroke-opacity:1;stroke-miterlimit:10;\" d=\"M 99.480469 79.765625 C 99.480469 85.289062 95.003906 89.765625 89.480469 89.765625 C 83.957031 89.765625 79.480469 85.289062 79.480469 79.765625 C 79.480469 74.242188 83.957031 69.765625 89.480469 69.765625 C 95.003906 69.765625 99.480469 74.242188 99.480469 79.765625 \"/>\n",
       "<path style=\"fill-rule:nonzero;fill:rgb(100%,0%,0%);fill-opacity:1;stroke-width:1;stroke-linecap:butt;stroke-linejoin:miter;stroke:rgb(0%,0%,0%);stroke-opacity:1;stroke-miterlimit:10;\" d=\"M 121.636719 20 C 121.636719 25.523438 117.160156 30 111.636719 30 C 106.113281 30 101.636719 25.523438 101.636719 20 C 101.636719 14.476562 106.113281 10 111.636719 10 C 117.160156 10 121.636719 14.476562 121.636719 20 \"/>\n",
       "<path style=\"fill-rule:nonzero;fill:rgb(100%,0%,0%);fill-opacity:1;stroke-width:1;stroke-linecap:butt;stroke-linejoin:miter;stroke:rgb(0%,0%,0%);stroke-opacity:1;stroke-miterlimit:10;\" d=\"M 30 177.492188 C 30 183.015625 25.523438 187.492188 20 187.492188 C 14.476562 187.492188 10 183.015625 10 177.492188 C 10 171.972656 14.476562 167.492188 20 167.492188 C 25.523438 167.492188 30 171.972656 30 177.492188 \"/>\n",
       "<path style=\"fill-rule:nonzero;fill:rgb(100%,0%,0%);fill-opacity:1;stroke-width:1;stroke-linecap:butt;stroke-linejoin:miter;stroke:rgb(0%,0%,0%);stroke-opacity:1;stroke-miterlimit:10;\" d=\"M 184.371094 230 C 184.371094 235.523438 179.894531 240 174.371094 240 C 168.847656 240 164.371094 235.523438 164.371094 230 C 164.371094 224.476562 168.847656 220 174.371094 220 C 179.894531 220 184.371094 224.476562 184.371094 230 \"/>\n",
       "<g style=\"fill:rgb(0%,0%,0%);fill-opacity:1;\">\n",
       "  <use xlink:href=\"#glyph0-1\" x=\"183.703125\" y=\"49.828125\"/>\n",
       "</g>\n",
       "<g style=\"fill:rgb(0%,0%,0%);fill-opacity:1;\">\n",
       "  <use xlink:href=\"#glyph0-2\" x=\"225.191406\" y=\"104.085938\"/>\n",
       "</g>\n",
       "<g style=\"fill:rgb(0%,0%,0%);fill-opacity:1;\">\n",
       "  <use xlink:href=\"#glyph0-3\" x=\"164.992188\" y=\"108.226562\"/>\n",
       "</g>\n",
       "<g style=\"fill:rgb(0%,0%,0%);fill-opacity:1;\">\n",
       "  <use xlink:href=\"#glyph0-4\" x=\"84.257812\" y=\"86.277344\"/>\n",
       "</g>\n",
       "<g style=\"fill:rgb(0%,0%,0%);fill-opacity:1;\">\n",
       "  <use xlink:href=\"#glyph0-5\" x=\"106.789062\" y=\"26.511719\"/>\n",
       "</g>\n",
       "<g style=\"fill:rgb(0%,0%,0%);fill-opacity:1;\">\n",
       "  <use xlink:href=\"#glyph0-6\" x=\"15.472656\" y=\"184.003906\"/>\n",
       "</g>\n",
       "<g style=\"fill:rgb(0%,0%,0%);fill-opacity:1;\">\n",
       "  <use xlink:href=\"#glyph0-7\" x=\"168.992188\" y=\"236.597656\"/>\n",
       "</g>\n",
       "</g>\n",
       "</svg>\n"
      ],
      "text/plain": [
       "<igraph.drawing.Plot at 0x24d23c9fc40>"
      ]
     },
     "execution_count": 23,
     "metadata": {
      "image/svg+xml": {
       "isolated": true
      }
     },
     "output_type": "execute_result"
    }
   ],
   "source": [
    "plot(grafo1, bbox = (0, 0, 250, 250))"
   ]
  },
  {
   "cell_type": "code",
   "execution_count": 24,
   "id": "ac92c422",
   "metadata": {},
   "outputs": [
    {
     "name": "stdout",
     "output_type": "stream",
     "text": [
      "IGRAPH D--- 4 4 --\n",
      "+ attr: label (v), peso (v)\n",
      "+ edges:\n",
      "0->1 2->3 0->2 0->3\n"
     ]
    }
   ],
   "source": [
    "grafo2 = Graph(edges = [(0,1), (2,3), (0,2), (0,3)], directed = True)\n",
    "grafo2.vs[\"label\"] = [\"Felipe\", \"Carlos\", \"Vinicius\", \"Filipe\"]\n",
    "grafo2.vs[\"peso\"] = [40,30,30,25]\n",
    "print(grafo2)"
   ]
  },
  {
   "cell_type": "code",
   "execution_count": 25,
   "id": "d54756eb",
   "metadata": {},
   "outputs": [
    {
     "name": "stdout",
     "output_type": "stream",
     "text": [
      "igraph.Vertex(<igraph.Graph object at 0x0000024D23CB27C0>, 0, {'label': 'Felipe', 'peso': 40})\n",
      "igraph.Vertex(<igraph.Graph object at 0x0000024D23CB27C0>, 1, {'label': 'Carlos', 'peso': 30})\n",
      "igraph.Vertex(<igraph.Graph object at 0x0000024D23CB27C0>, 2, {'label': 'Vinicius', 'peso': 30})\n",
      "igraph.Vertex(<igraph.Graph object at 0x0000024D23CB27C0>, 3, {'label': 'Filipe', 'peso': 25})\n"
     ]
    },
    {
     "data": {
      "text/plain": [
       "igraph.Vertex(<igraph.Graph object at 0x0000024D23CB27C0>, 0, {'label': 'Felipe', 'peso': 40})"
      ]
     },
     "execution_count": 25,
     "metadata": {},
     "output_type": "execute_result"
    }
   ],
   "source": [
    "for v in grafo2.vs:\n",
    "    print(v)\n",
    "grafo2.vs[0]"
   ]
  },
  {
   "cell_type": "code",
   "execution_count": 26,
   "id": "603a83c4",
   "metadata": {},
   "outputs": [
    {
     "name": "stdout",
     "output_type": "stream",
     "text": [
      "IGRAPH D-W- 4 4 --\n",
      "+ attr: label (v), peso (v), TipoAmizade (e), weight (e)\n",
      "+ edges:\n",
      "0->1 2->3 0->2 0->3\n"
     ]
    }
   ],
   "source": [
    "# Definição de tipo e peso das relações\n",
    "grafo2.es[\"TipoAmizade\"] = [\"Amigo\", \"Inimigo\", \"Inimigo\", \"Amigo\"]\n",
    "grafo2.es[\"weight\"] = [1,2,1,3]\n",
    "print(grafo2)"
   ]
  },
  {
   "cell_type": "code",
   "execution_count": 27,
   "id": "00119d9f",
   "metadata": {},
   "outputs": [
    {
     "data": {
      "text/plain": [
       "igraph.Edge(<igraph.Graph object at 0x0000024D23CB27C0>, 0, {'TipoAmizade': 'Amigo', 'weight': 1})"
      ]
     },
     "execution_count": 27,
     "metadata": {},
     "output_type": "execute_result"
    }
   ],
   "source": [
    "grafo2.es[0]"
   ]
  },
  {
   "cell_type": "code",
   "execution_count": 28,
   "id": "0fac82ae",
   "metadata": {},
   "outputs": [
    {
     "name": "stdout",
     "output_type": "stream",
     "text": [
      "IGRAPH DNWT 4 4 --\n",
      "+ attr: label (v), name (v), peso (v), type (v), TipoAmizade (e), weight (e)\n",
      "+ edges (vertex names):\n",
      "Amizades->Amizades, Amizades->Amizades, Amizades->Amizades, Amizades->Amizades\n"
     ]
    }
   ],
   "source": [
    "# Mudança de tipo das relações em grafos já existentes\n",
    "grafo2.vs[\"type\"] = \"Humanos\"\n",
    "grafo2.vs[\"name\"] = \"Amizades\"\n",
    "print(grafo2)"
   ]
  },
  {
   "cell_type": "code",
   "execution_count": null,
   "id": "10a67d96",
   "metadata": {},
   "outputs": [],
   "source": [
    "plot"
   ]
  }
 ],
 "metadata": {
  "kernelspec": {
   "display_name": "Python 3 (ipykernel)",
   "language": "python",
   "name": "python3"
  },
  "language_info": {
   "codemirror_mode": {
    "name": "ipython",
    "version": 3
   },
   "file_extension": ".py",
   "mimetype": "text/x-python",
   "name": "python",
   "nbconvert_exporter": "python",
   "pygments_lexer": "ipython3",
   "version": "3.9.13"
  }
 },
 "nbformat": 4,
 "nbformat_minor": 5
}
